{
 "cells": [
  {
   "cell_type": "markdown",
   "metadata": {},
   "source": [
    "# Playing with containers!\n",
    "\n",
    "![containers](./assets/container.gif)\n",
    "\n",
    "Now that we can create an image and run containers, let's talk about our development workflow.\n",
    "\n",
    "## Goals\n",
    "In this module you will learn to:\n",
    "* Connect to a container via SSH\n",
    "* Give a name to your container\n",
    "* Connect a volume to your container\n",
    "* Know how to have a smooth workflow working with Docker\n",
    "\n",
    "## Workflow 1 - The basics\n",
    "So when you start with Docker and with only the knowledge you have now it will be:\n",
    "\n",
    "1. Create your Dockerfile\n",
    "2. Build your container\n",
    "3. Run a container\n",
    "4. See the output\n",
    "\n",
    "Great! But I'm afraid to tell you that at some point you will make mistakes in your code, you will want to change your code, or you will need additional dependencies.\n",
    "\n",
    "So how can you handle this? Let's see the workflow you will have when something goes wrong in your code after running the container for the first time.\n",
    "\n",
    "1. Try to figure out where the issue is based on the container's output\n",
    "2. Fix the issue\n",
    "3. Re-build your image\n",
    "4. Re-run your container\n",
    "5. See if the issue is fixed\n",
    "\n",
    "That could work. But when you will start to add more dependencies, add more files,and so on..., your image will become way bigger. And only the building step could take you 30 minutes. (I experienced it, I can assure you that it happens quicker than you think...)\n",
    "\n",
    "So how to fix that to be more productive? With SSH!\n",
    "\n",
    "## Workflow 2 - With SSH (CLI)\n",
    "A container is running files on your computer right now and we copied our files in the container, didn't we? So there should be a way of editing those files!\n",
    "\n",
    "Indeed! You can do it by connecting to your container via SSH. A bit like if you were trying to connect to another computer.\n",
    "\n",
    "We will specify this during the container's creation. We will kindly ask it to access the container's terminal instead of running a specific command.\n",
    "\n",
    "\n",
    "We can do that by changing our `docker run` command a bit.\n",
    "\n",
    "Build your container in your own terminal (not in a jupyter notebook) and try the following:\n",
    "\n",
    "```bash\n",
    "docker run -it hello:latest bash\n",
    "```\n",
    "\n",
    "Some explanations:\n",
    "* `-it hello:latest` We keep the -t to define the image's tag. But we also add `i` for *interactive*\n",
    "* `bash` to tell to our container that it should replace the command we defined in the Dockerfile after the line `CMD` with `bash`. `bash` is the terminal installed by default in the image. (as we used Ubuntu.)\n",
    "\n",
    "Running bash will have the added benefit of keeping the container alive, because as long as the bash terminal is running, the container is running too.\n",
    "Because remember, when we ran the python script, it showed the output and the container shut down afterwards as there was nothing left to execute.\n",
    "\n",
    "You should have an output like this:"
   ]
  },
  {
   "cell_type": "code",
   "execution_count": null,
   "metadata": {},
   "outputs": [
    {
     "name": "stdout",
     "output_type": "stream",
     "text": [
      "\u001b[Kroot@ebfde2be6a8a:/app# "
     ]
    }
   ],
   "source": [
    "!docker run -it hello:latest bash"
   ]
  },
  {
   "cell_type": "markdown",
   "metadata": {},
   "source": [
    "But yours should be interactive! You are now in the container's terminal. If you want to get out, just type `exit`.\n",
    "\n",
    "![terminal inception!](./assets/inception.gif)\n",
    "\n",
    "Now you can type all the commands that you would type in a typical bash terminal under Ubuntu.\n",
    "* You bash check the files in your current directory with `ls`\n",
    "* You can move around with `cd`\n",
    "* Run python file with `python`\n",
    "* ...\n",
    "\n",
    "Ok so, now we can install `vim` with `apt install vim` or use `nano` to edit files. Then we can run our files again and see the output without the need to re-build our image and re-run our container! \n",
    "\n",
    "Great, but using vim or nano is not really user friendly, and just exiting vim could be a nightmare if it's your first time!\n",
    "\n",
    "Don't worry, you can find more information about [how vim works here](https://www.linux.com/training-tutorials/vim-101-beginners-guide-vim/) and we will find a solution to use a real IDE in the next workflow!\n",
    "\n",
    "## Workflow 3 - VScode\n",
    "We can use VScode to connect to our container. \n",
    "You will be able to change your code in a friendly IDE and run commands in the integrated terminal!\n",
    "\n",
    "I made you a short gif to show the process:\n",
    "\n",
    "![How to ssh docker container with VSCODE](./assets/vs-code-ssh.gif)\n",
    "\n",
    "So that's the best workflow we can get, right?\n",
    "\n",
    "Well, not exactly. Because it means that each time you will exit the container, all your changes are going to be lost... So you have to copy the changes in your local files but if you have made changes in 10 files, it's a pain to see where the differences are and where you have to copy paste code...\n",
    "\n",
    "We will fix this problem in the next module with Docker volumes!"
   ]
  }
 ],
 "metadata": {
  "kernelspec": {
   "display_name": "Python 3",
   "language": "python",
   "name": "python3"
  },
  "language_info": {
   "codemirror_mode": {
    "name": "ipython",
    "version": 3
   },
   "file_extension": ".py",
   "mimetype": "text/x-python",
   "name": "python",
   "nbconvert_exporter": "python",
   "pygments_lexer": "ipython3",
   "version": "3.7.9"
  }
 },
 "nbformat": 4,
 "nbformat_minor": 4
}
