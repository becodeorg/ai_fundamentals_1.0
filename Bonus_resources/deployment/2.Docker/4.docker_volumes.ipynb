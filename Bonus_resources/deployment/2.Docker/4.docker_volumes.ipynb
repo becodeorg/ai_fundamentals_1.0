{
 "cells": [
  {
   "cell_type": "markdown",
   "metadata": {},
   "source": [
    "# Add volume to your life!\n",
    "\n",
    "![volumes](./assets/volume.gif)\n",
    "\n",
    "Let's discover docker volumes!\n",
    "\n",
    "## Goals\n",
    "In this module, you will learn to:\n",
    "* Understand what a Docker volume is\n",
    "* Take advantage of it\n",
    "* Improve your workflow\n",
    "\n",
    "## The problem\n",
    "In the previous module, we discovered that changing the file of a running container can be a pain.\n",
    "Well, it shouldn't be! Let's see how we can fix that.\n",
    "\n",
    "## The solution\n",
    "And the solution is....... using a volume! Did you guess it? Wow I'm impressed!\n",
    "\n",
    "## What is a volume?\n",
    "In Docker, a volume is a bit like a hard disk. You will give a path on your computer (or in a server, USB stick,...) and you will ask it to mount it in your container in a specific place.\n",
    "\n",
    "So in our case, we will ask to mount out current directory in the `/app` folder of our container. It means that they will be linked. So if we do a modification in our code, it will affect the container.\n",
    "\n",
    "## How to do it?\n",
    "In Docker, there are multiple ways of using volumes, you can create volumes and name them. So you can use them in multiple containers.\n",
    "You can create anonymous volumes for example.\n",
    "\n",
    "For our exercise, we will use volumes in their simplest state, anonymous volumes.\n",
    "\n",
    "We can add the `-v` flag to our run command to specify a path in our machine to link to a path in the container.\n",
    "\n",
    "So in our case, we want to copy everything that we have in the code directory (which is in our current working directory) in the `/app` of our container.\n",
    "\n",
    "To do so, we could write the complete path of our current directory. But it would be long to write and annoying to type each time we change it.\n",
    "\n",
    "To tackle this problem, we will use the environment variable `$PWD`, The value of this variable will always be the current working directory.\n",
    "Let's check if it works!\n",
    "\n",
    "If you want more informations, you can read about it in the [Docker documentation](https://docs.docker.com/storage/volumes/). "
   ]
  },
  {
   "cell_type": "code",
   "execution_count": 1,
   "metadata": {},
   "outputs": [
    {
     "name": "stdout",
     "output_type": "stream",
     "text": [
      "/home/maxim/code/becode/Python-Upskilling/I-O/03.Docker\n"
     ]
    }
   ],
   "source": [
    "!echo $PWD"
   ]
  },
  {
   "cell_type": "markdown",
   "metadata": {},
   "source": [
    "Perfect! the `-v` docker parameter will parse what we will put after it in 3 parts:\n",
    "* The first part will be the directory that we want to link **on our local machine**. That's where we will use the `$PWD` variable. `$PWD/code`\n",
    "* The second part is the separator `:` between the first and third part.\n",
    "* The third part is the path where our local folder will be linked **in the container**. `/app/code`\n",
    "\n",
    "So the complete command is:\n",
    "\n",
    "```bash\n",
    "docker run -v $PWD/code:/app/code -t hello\n",
    "```\n",
    "\n",
    "In the code folder we also have a `code_folder.txt` file. As we didn't copy it in our Dockerfile, it won't be there by default. But because we asked our volume to mount the entire code folder, we now have this file! Let's check it out.\n",
    "\n",
    "We first run the container without volumes and we add `ls code` at the end of the command. It will start the container, run `ls code` on it, print the output and shutdown itself."
   ]
  },
  {
   "cell_type": "code",
   "execution_count": 6,
   "metadata": {},
   "outputs": [
    {
     "name": "stdout",
     "output_type": "stream",
     "text": [
      "hello_world.py\n"
     ]
    }
   ],
   "source": [
    "!docker run -t hello ls code"
   ]
  },
  {
   "cell_type": "markdown",
   "metadata": {},
   "source": [
    "Now we will do the same **with** our volume"
   ]
  },
  {
   "cell_type": "code",
   "execution_count": 7,
   "metadata": {},
   "outputs": [
    {
     "name": "stdout",
     "output_type": "stream",
     "text": [
      "code_folder.txt  hello_world.py\n"
     ]
    }
   ],
   "source": [
    "!docker run -v $PWD/code:/app/code -t hello ls code"
   ]
  },
  {
   "cell_type": "markdown",
   "metadata": {},
   "source": [
    "Cool, but it also means that we can do any change in the files located in our volume (so our code directory) and it will automatically affect the container.\n",
    "\n",
    "In our docker file we did a **COPY** of our files. But with the volumes, it is a **LINK** so instead of having a copy of our files in the container, \n",
    "docker will look at the content of it on our local machine!\n",
    "\n",
    "Now we can fix our code, re-run the command on our container without the need to re-build it and when we're done we can simply exit the container and our changes are gonna be saved.\n",
    "\n",
    "## Conclusion\n",
    "Volumes are a super important concept in Docker, take the time to learn how you can take advantage of them. It will save you **A TON** of time, believe me!\n",
    "\n",
    "## Is that it?\n",
    "No, you can do way more things with volumes.\n",
    "* Use a DB that runs locally in your container.\n",
    "* Mount files from a distant server.\n",
    "* Read processes that are running on your local machine\n",
    "* And many more...\n",
    "\n",
    "## Next step!\n",
    "Wow, it was a lot of reading right? Maybe even too much. \n",
    "At least now, you have all the basis you need to start using docker properly!\n",
    "\n",
    "![stop read!](./assets/read.gif)\n",
    "\n",
    "Let's practice now!"
   ]
  }
 ],
 "metadata": {
  "kernelspec": {
   "display_name": "Python 3",
   "language": "python",
   "name": "python3"
  },
  "language_info": {
   "codemirror_mode": {
    "name": "ipython",
    "version": 3
   },
   "file_extension": ".py",
   "mimetype": "text/x-python",
   "name": "python",
   "nbconvert_exporter": "python",
   "pygments_lexer": "ipython3",
   "version": "3.7.9"
  }
 },
 "nbformat": 4,
 "nbformat_minor": 4
}
