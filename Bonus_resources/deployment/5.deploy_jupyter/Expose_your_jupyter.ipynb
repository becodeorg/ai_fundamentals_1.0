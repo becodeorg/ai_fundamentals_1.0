{
 "cells": [
  {
   "cell_type": "markdown",
   "metadata": {},
   "source": [
    "# Expose your jupyter notebook/lab to LAN/world\n",
    "![jupyter](./assets/jupyter.png)"
   ]
  },
  {
   "cell_type": "markdown",
   "metadata": {},
   "source": [
    "Working on an external sever/computer with Python can be annoying. If you want to preview images generated with your Python code for example. Or if you want to display charts,...\n",
    "\n",
    "The old way of doing it would be to connect with SSH to the server, run the code, save the images and then copy it to your local computer to finally open it.\n",
    "\n",
    "An good alternative to this process could be to install `jupyter` on the server, launch it and expose it to your LAN or to the external world. You can then have access to it and run you code from your favorite browser."
   ]
  },
  {
   "cell_type": "markdown",
   "metadata": {},
   "source": [
    "## Process to expose to LAN\n",
    "1. Connect with SSH to the server\n",
    "2. Install Jupyter with `pip install jupyter`\n",
    "3. Run jupyter and add the following parameters:\n",
    "\n",
    "```bash\n",
    "# If you want to use jupyter notebook:\n",
    "jupyter notebook --ip <your_LAN_ip> --port <port_you_want_to_use>\n",
    "\n",
    "# If you want to use jupyter lab:\n",
    "pip install jupyterlab\n",
    "jupyter serverextension enable --py jupyterlab --sys-prefix\n",
    "jupyter notebook --ip <your_LAN_ip> --port <port_you_want_to_use>\n",
    "```\n",
    "\n",
    "If you don't know your LAN IP, you can run: (on the server)\n",
    "\n",
    "```bash\n",
    "hostname -I\n",
    "```\n",
    "\n",
    "4. Access it from your browser at the address you specified before\n",
    "```\n",
    "<your_LAN_ip>:<port_you_want_to_use>\n",
    "```"
   ]
  },
  {
   "cell_type": "markdown",
   "metadata": {},
   "source": [
    "## Tips\n",
    "If you  experience issues with jupyter installation, this command could help:\n",
    "\n",
    "```bash\n",
    "pip install --upgrade --force-reinstall --no-cache-dir jupyter\n",
    "```"
   ]
  },
  {
   "cell_type": "markdown",
   "metadata": {},
   "source": [
    "Your jupyter is now in exposed mode! Python can run everywhere now...\n",
    "\n",
    "![python is free!](./assets/python_free.gif)"
   ]
  },
  {
   "cell_type": "code",
   "execution_count": null,
   "metadata": {},
   "outputs": [],
   "source": []
  }
 ],
 "metadata": {
  "kernelspec": {
   "display_name": "Python 3",
   "language": "python",
   "name": "python3"
  },
  "language_info": {
   "codemirror_mode": {
    "name": "ipython",
    "version": 3
   },
   "file_extension": ".py",
   "mimetype": "text/x-python",
   "name": "python",
   "nbconvert_exporter": "python",
   "pygments_lexer": "ipython3",
   "version": "3.7.9"
  }
 },
 "nbformat": 4,
 "nbformat_minor": 4
}
