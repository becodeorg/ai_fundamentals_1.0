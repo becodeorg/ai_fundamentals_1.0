{
 "cells": [
  {
   "cell_type": "markdown",
   "metadata": {},
   "source": [
    "# Flask Survival Guide\n",
    "\n",
    "[Flask](https://flask.palletsprojects.com/en/1.1.x/) is a micro web framework powered by Python. It’s API is fairly small, making it easy to learn and simple to use.\n",
    "\n",
    "But don’t let this fool you, as it’s powerful enough to support enterprise-level applications handling large amounts of traffic.\n",
    "\n",
    "You can start small with an app contained entirely in one file, then slowly scale up to multiple files and folders in a well-structured manner as your site becomes more and more complex.\n",
    "\n",
    "It’s an excellent framework to start with, which you’ll be learning in true “Real Python-style”: with hands-on, practical examples that are interesting and fun.\n",
    "\n",
    "Flask is based on the Werkzeug [WSGI](https://www.fullstackpython.com/wsgi-servers.html) toolkit and [Jinja2](https://jinja.palletsprojects.com/en/2.11.x/) template engine.\n",
    "\n",
    "In order follow easily this tutorial there are some prerequisites:\n",
    "\n",
    "* Good knowledge of Linux **command line**.\n",
    "* Experience with **python**.\n",
    "* Hands-on **[HTML](https://www.tutorialspoint.com/html/index.htm)**.\n",
    "\n",
    "Some system requirements:\n",
    "\n",
    "* Python 2.7.x or up (we will use 3.6.x or up)\n",
    "* pip\n",
    "* Virtual environment\n",
    "\n",
    "\n",
    "\n"
   ]
  }
 ],
 "metadata": {
  "kernelspec": {
   "display_name": "Python 3",
   "language": "python",
   "name": "python3"
  },
  "language_info": {
   "codemirror_mode": {
    "name": "ipython",
    "version": 3
   },
   "file_extension": ".py",
   "mimetype": "text/x-python",
   "name": "python",
   "nbconvert_exporter": "python",
   "pygments_lexer": "ipython3",
   "version": "3.6.9"
  }
 },
 "nbformat": 4,
 "nbformat_minor": 4
}
