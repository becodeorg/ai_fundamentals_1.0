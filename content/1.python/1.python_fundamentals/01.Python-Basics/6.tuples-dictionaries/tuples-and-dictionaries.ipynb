{
 "cells": [
  {
   "cell_type": "markdown",
   "metadata": {},
   "source": [
    "# Lists, Tuples and dictionaries"
   ]
  },
  {
   "cell_type": "markdown",
   "metadata": {},
   "source": [
    "## Lists"
   ]
  },
  {
   "cell_type": "markdown",
   "metadata": {},
   "source": [
    "Lists are sequences, ordered collections of objects separated by commas. They are declared with the indicating operator \"[ ]\":"
   ]
  },
  {
   "cell_type": "code",
   "execution_count": 49,
   "metadata": {
    "collapsed": true
   },
   "outputs": [],
   "source": [
    "myList = [\"a\",\"b\",\"c\", \"d\"]"
   ]
  },
  {
   "cell_type": "markdown",
   "metadata": {},
   "source": [
    "A value can be accessed by indicating the index."
   ]
  },
  {
   "cell_type": "code",
   "execution_count": 50,
   "metadata": {},
   "outputs": [
    {
     "name": "stdout",
     "output_type": "stream",
     "text": [
      "a\n"
     ]
    }
   ],
   "source": [
    "print(myList[0])"
   ]
  },
  {
   "cell_type": "markdown",
   "metadata": {},
   "source": [
    "We can specify that we only want the first two elements of the list"
   ]
  },
  {
   "cell_type": "code",
   "execution_count": 58,
   "metadata": {},
   "outputs": [
    {
     "name": "stdout",
     "output_type": "stream",
     "text": [
      "['a', 'b']\n"
     ]
    }
   ],
   "source": [
    "print(myList[:2])"
   ]
  },
  {
   "cell_type": "markdown",
   "metadata": {},
   "source": [
    "If we want to reverse the list"
   ]
  },
  {
   "cell_type": "code",
   "execution_count": 53,
   "metadata": {},
   "outputs": [
    {
     "name": "stdout",
     "output_type": "stream",
     "text": [
      "['d', 'c', 'b', 'a']\n"
     ]
    }
   ],
   "source": [
    "print(myList[::-1])"
   ]
  },
  {
   "cell_type": "markdown",
   "metadata": {},
   "source": [
    "Warning, the indexes always start from 0. It's a little disturbing at first, but you have to get used to it.\n",
    "Other examples of what can be done with the lists."
   ]
  },
  {
   "cell_type": "code",
   "execution_count": 31,
   "metadata": {},
   "outputs": [
    {
     "name": "stdout",
     "output_type": "stream",
     "text": [
      "['a', 'b', 'c', 'a', 'b', 'c', 'a', 'b', 'c', 'a', 'b', 'c', 'a', 'b', 'c']\n"
     ]
    }
   ],
   "source": [
    "myList = myList * 5 \n",
    "print(myList)"
   ]
  },
  {
   "cell_type": "code",
   "execution_count": 32,
   "metadata": {},
   "outputs": [
    {
     "name": "stdout",
     "output_type": "stream",
     "text": [
      "['a', 'b', 'c', 'a', 'b', 'c', 'a', 'b', 'c', 'a', 'b', 'c', 'a', 'b', 'c', 'Add Text']\n"
     ]
    }
   ],
   "source": [
    "myList.append(\"Add Text\")\n",
    "print(myList)"
   ]
  },
  {
   "cell_type": "markdown",
   "metadata": {},
   "source": [
    "You can put any type of data in it : "
   ]
  },
  {
   "cell_type": "code",
   "execution_count": 34,
   "metadata": {},
   "outputs": [
    {
     "name": "stdout",
     "output_type": "stream",
     "text": [
      "[193.45, 'Hello', ['Inception list', 'Two elements'], 89, 'Hello, i am a variable that contains String values']\n"
     ]
    }
   ],
   "source": [
    "var = \"Hello, i am a variable that contains String values\"\n",
    "otherList = [193.45, \"Hello\", [\"Inception list\", \"Two elements\"], 89, var]\n",
    "print(otherList)"
   ]
  },
  {
   "cell_type": "markdown",
   "metadata": {},
   "source": [
    "You can also merge two tables"
   ]
  },
  {
   "cell_type": "code",
   "execution_count": 41,
   "metadata": {},
   "outputs": [
    {
     "name": "stdout",
     "output_type": "stream",
     "text": [
      "[1, 2, 3, 4, 4, 5, 1, 0]\n",
      "[1, 2, 3, 4, 4, 5, 1, 0]\n"
     ]
    }
   ],
   "source": [
    "x = [1, 2, 3, 4]\n",
    "y = [4, 5, 1, 0]\n",
    "x.extend(y)\n",
    "print(x)\n",
    "\n",
    "# OR \n",
    "x = [1, 2, 3, 4]\n",
    "y = [4, 5, 1, 0]\n",
    "\n",
    "xy = x + y\n",
    "print(xy)\n"
   ]
  },
  {
   "cell_type": "markdown",
   "metadata": {},
   "source": [
    "There are many methods, I invite you to find them out by searching on google."
   ]
  },
  {
   "cell_type": "markdown",
   "metadata": {},
   "source": [
    "## Tuples \n",
    "Python offers a type of data called tuple (term meaning \"Table UPLEt\"), which is quite similar to a list but cannot be modified. Tuples are therefore preferable to lists wherever you want to be sure that the data transmitted is not modified by mistake within a program. In addition, tuples are less \"greedy\" in terms of system resources (they take less memory space). Tuples are immutable objects *(We will see what this means a little later.)*"
   ]
  },
  {
   "cell_type": "code",
   "execution_count": 19,
   "metadata": {
    "collapsed": true
   },
   "outputs": [],
   "source": [
    "tupleExample = (\"Moriarty\", \"Sherlock\", \"Watson\")\n",
    "listExample = [\"Moriarty\", \"Sherlock\", \"Watson\"]"
   ]
  },
  {
   "cell_type": "markdown",
   "metadata": {},
   "source": [
    "### tuple VS list\n",
    "As we can see, when we try to modify the content of a Tuple object, we get an error. However, no problem for the list"
   ]
  },
  {
   "cell_type": "code",
   "execution_count": 20,
   "metadata": {},
   "outputs": [
    {
     "ename": "AttributeError",
     "evalue": "'tuple' object has no attribute 'append'",
     "output_type": "error",
     "traceback": [
      "\u001b[0;31m---------------------------------------------------------------------------\u001b[0m",
      "\u001b[0;31mAttributeError\u001b[0m                            Traceback (most recent call last)",
      "\u001b[0;32m<ipython-input-20-e2157155b595>\u001b[0m in \u001b[0;36m<module>\u001b[0;34m()\u001b[0m\n\u001b[0;32m----> 1\u001b[0;31m \u001b[0mtupleExample\u001b[0m\u001b[0;34m.\u001b[0m\u001b[0mappend\u001b[0m\u001b[0;34m(\u001b[0m\u001b[0;34m\"Lestrade\"\u001b[0m\u001b[0;34m)\u001b[0m\u001b[0;34m\u001b[0m\u001b[0m\n\u001b[0m",
      "\u001b[0;31mAttributeError\u001b[0m: 'tuple' object has no attribute 'append'"
     ]
    }
   ],
   "source": [
    "tupleExample.append(\"Lestrade\")"
   ]
  },
  {
   "cell_type": "code",
   "execution_count": 21,
   "metadata": {},
   "outputs": [
    {
     "name": "stdout",
     "output_type": "stream",
     "text": [
      "['Moriarty', 'Sherlock', 'Watson', 'Lestrade']\n"
     ]
    }
   ],
   "source": [
    "listExample.append(\"Lestrade\")\n",
    "print(listExample)"
   ]
  },
  {
   "cell_type": "markdown",
   "metadata": {
    "collapsed": true
   },
   "source": [
    "And as we have seen previously, even if we save the \"listExample\" variable in another variable and make a modification on one of the lists, both lists will be impacted."
   ]
  },
  {
   "cell_type": "code",
   "execution_count": 22,
   "metadata": {},
   "outputs": [
    {
     "name": "stdout",
     "output_type": "stream",
     "text": [
      "['Moriarty', 'Sherlock', 'Watson', 'Lestrade', 'Hudson']\n",
      "['Moriarty', 'Sherlock', 'Watson', 'Lestrade', 'Hudson']\n"
     ]
    }
   ],
   "source": [
    "listExample2 = listExample\n",
    "listExample2.append(\"Hudson\")\n",
    "\n",
    "print(listExample2)\n",
    "print(listExample)"
   ]
  },
  {
   "cell_type": "markdown",
   "metadata": {},
   "source": [
    "So if you need to process a collection that will not change, use tuples. On the other hand, if you know that this collection will have to be changed, then use the lists."
   ]
  },
  {
   "cell_type": "markdown",
   "metadata": {},
   "source": [
    "## Dictionaries\n",
    "The dictionaries or \"associative array\" is not a sequence but another composite type. They look similar to the lists to some extent (they are editable like them), but the elements we are going to record will not be arranged in an unchanging order. On the other hand, we will be able to access any of them using a specific index called a key, which can be alphabetical, numerical, or even a composite type under certain conditions.\n",
    "Note: Like in a list, the elements stored in a dictionary can be of any type (numerical values, strings, lists, etc.)."
   ]
  },
  {
   "cell_type": "markdown",
   "metadata": {},
   "source": [
    "In dictionaries, indexes will be strings of characters, unlike lists.\n",
    "\n",
    "Since the dictionary type is a modifiable type, we can start by creating an empty dictionary and then fill it in little by little. From a syntactic point of view, a dictionary-type data structure is recognized by the fact that its elements are enclosed in a pair of braces. An empty dictionary will therefore be noted ``{ }`"
   ]
  },
  {
   "cell_type": "code",
   "execution_count": 30,
   "metadata": {},
   "outputs": [
    {
     "name": "stdout",
     "output_type": "stream",
     "text": [
      "{'Batman': 'Bruce Wayne', 'Superman': 'Clark Kent'}\n"
     ]
    }
   ],
   "source": [
    "heroes = {}\n",
    "heroes[\"Batman\"] = \"Bruce Wayne\"\n",
    "heroes[\"Superman\"] = \"Clark Kent\"\n",
    "print(heroes)"
   ]
  },
  {
   "cell_type": "markdown",
   "metadata": {},
   "source": [
    "As you can see in the line above, a dictionary appears as a series of elements separated by commas (all enclosed between two braces). Each of these elements consists of a pair of objects: an index and a value, separated by a colon.\n",
    "\n",
    "In a dictionary, indexes are called keys, so elements can be called key-value pairs. You may notice that the order in which the elements appear in the last line does not correspond to the order in which we provided them. This is absolutely irrelevant: we will never try to extract a value from a dictionary using a numerical index. Instead, we will use the keys: "
   ]
  },
  {
   "cell_type": "code",
   "execution_count": 36,
   "metadata": {},
   "outputs": [
    {
     "name": "stdout",
     "output_type": "stream",
     "text": [
      "Bruce Wayne\n",
      "Clark Kent\n"
     ]
    }
   ],
   "source": [
    "print(heroes[\"Batman\"])\n",
    "print(heroes[\"Superman\"])"
   ]
  },
  {
   "cell_type": "markdown",
   "metadata": {},
   "source": [
    "Here, Batman and Superman are the keys and Bruce Wayne and Clark Kent are the values."
   ]
  },
  {
   "cell_type": "markdown",
   "metadata": {},
   "source": [
    "Unlike lists, it is not necessary to use a particular method to add new elements to a dictionary: simply create a new key-value pair. "
   ]
  },
  {
   "cell_type": "code",
   "execution_count": 43,
   "metadata": {},
   "outputs": [
    {
     "name": "stdout",
     "output_type": "stream",
     "text": [
      "{'Batman': 'Bruce Wayne', 'Superman': 'Clark Kent', 'Spiderman': 'Peter Parker'}\n"
     ]
    }
   ],
   "source": [
    "heroes[\"Spiderman\"] = \"Peter Parker\"\n",
    "print(heroes)"
   ]
  },
  {
   "cell_type": "markdown",
   "metadata": {
    "collapsed": true
   },
   "source": [
    "## [Right, you can move here](./Drill-tuples-dictionaries-lists.ipynb)"
   ]
  }
 ],
 "metadata": {
  "kernelspec": {
   "display_name": "Python 3",
   "language": "python",
   "name": "python3"
  },
  "language_info": {
   "codemirror_mode": {
    "name": "ipython",
    "version": 3
   },
   "file_extension": ".py",
   "mimetype": "text/x-python",
   "name": "python",
   "nbconvert_exporter": "python",
   "pygments_lexer": "ipython3",
   "version": "3.8.5"
  }
 },
 "nbformat": 4,
 "nbformat_minor": 2
}
