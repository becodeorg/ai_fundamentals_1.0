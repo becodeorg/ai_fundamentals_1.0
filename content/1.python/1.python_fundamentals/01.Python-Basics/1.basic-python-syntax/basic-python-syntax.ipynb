{
 "cells": [
  {
   "cell_type": "markdown",
   "metadata": {},
   "source": [
    "# Basic python syntax"
   ]
  },
  {
   "cell_type": "markdown",
   "metadata": {},
   "source": [
    "The syntax of the Python programming language is the set of rules that defines how a Python program will be written and interpreted (by both the runtime system and by human readers).The Python language has many similarities to Perl, C, and Java. However, there are some definite differences between the languages. "
   ]
  },
  {
   "cell_type": "markdown",
   "metadata": {},
   "source": [
    "### Design philosophy\n",
    "\n",
    "Python was designed to be a highly readable language. It has a relatively uncluttered visual layout and uses English keywords frequently where other languages use punctuation. Python aims to be simple and consistent in the design of its syntax, encapsulated in the mantra \"There should be one—and preferably only one—obvious way to do it\", from *\"The Zen of Python\"*\n",
    "\n",
    "With Python, forget the semicolons and curly braces to delimit the blocks. Python works by line and prioritization is done with indendation.  \n",
    "We will see this later with the conditions and functions.\n"
   ]
  },
  {
   "cell_type": "markdown",
   "metadata": {},
   "source": [
    "### Indentation "
   ]
  },
  {
   "cell_type": "markdown",
   "metadata": {},
   "source": [
    "Python uses whitespace to delimit control flow blocks (following the off-side rule). Python borrows this feature from its predecessor ABC: instead of punctuation or keywords, it uses indentation to indicate the run of a block.\n",
    "\n",
    "In so-called \"free-format\" languages — that use the block structure derived from ALGOL — blocks of code are set off with braces ({ }) or keywords. In most coding conventions for these languages, programmers conventionally indent the code within a block, to visually set it apart from the surrounding code (prettyprinting). "
   ]
  },
  {
   "cell_type": "code",
   "execution_count": 4,
   "metadata": {},
   "outputs": [],
   "source": [
    "def foo(x):\n",
    "    if x == 0:\n",
    "        bar()\n",
    "        baz()\n",
    "    else:\n",
    "        qux(x)\n",
    "        foo(x - 1)"
   ]
  },
  {
   "cell_type": "markdown",
   "metadata": {},
   "source": [
    "### Comments in Python\n",
    "A hash sign (#) that is not inside a string literal begins a comment. All characters after the # and up to the end of the physical line are part of the comment and the Python interpreter ignores them."
   ]
  },
  {
   "cell_type": "code",
   "execution_count": 2,
   "metadata": {},
   "outputs": [],
   "source": [
    "# My first comment \n",
    "name = \"BeCode\" # Name of school"
   ]
  },
  {
   "cell_type": "markdown",
   "metadata": {},
   "source": [
    "Following triple-quoted string is also ignored by Python interpreter and can be used as a multiline comments:"
   ]
  },
  {
   "cell_type": "code",
   "execution_count": 1,
   "metadata": {},
   "outputs": [
    {
     "data": {
      "text/plain": [
       "'\\nThis is a multiline\\ncomment.\\n'"
      ]
     },
     "execution_count": 1,
     "metadata": {},
     "output_type": "execute_result"
    }
   ],
   "source": [
    "\"\"\"\n",
    "This is a multiline\n",
    "comment.\n",
    "\"\"\""
   ]
  },
  {
   "cell_type": "markdown",
   "metadata": {},
   "source": [
    "### Quotation in Python  \n",
    "Python accepts single ('), double (\") and triple (''' or \"\"\") quotes to denote string literals, as long as the same type of quote starts and ends the string.\n",
    "\n",
    "The triple quotes are used to span the string across multiple lines. For example, all the following are legal :"
   ]
  },
  {
   "cell_type": "code",
   "execution_count": 3,
   "metadata": {},
   "outputs": [
    {
     "name": "stdout",
     "output_type": "stream",
     "text": [
      "word\n",
      "This is a sentence.\n",
      "This is a paragraph. It is\n",
      "made up of multiple lines and sentences.\n"
     ]
    }
   ],
   "source": [
    "word = 'word'\n",
    "sentence = \"This is a sentence.\"\n",
    "paragraph = \"\"\"This is a paragraph. It is\n",
    "made up of multiple lines and sentences.\"\"\"\n",
    "print(word)\n",
    "print(sentence)\n",
    "print(paragraph)"
   ]
  },
  {
   "cell_type": "markdown",
   "metadata": {},
   "source": [
    "### Reserved Words\n",
    "\n",
    "The following list shows the Python keywords. These are reserved words and you cannot use them as constants or variables or any other identifier name. All Python keywords contain only lowercase letters.\n",
    "\n",
    "* and\t\n",
    "* exec\t\n",
    "* not\n",
    "* assert\t\n",
    "* finally\t\n",
    "* or\n",
    "* break\t\n",
    "* for\t\n",
    "* pass\n",
    "* class\t\n",
    "* from\t\n",
    "* print\n",
    "* continue\t\n",
    "* global\t\n",
    "* raise\n",
    "* def\t\n",
    "* if\t\n",
    "* return\n",
    "* del\t\n",
    "* import\t\n",
    "* try\n",
    "* elif\t\n",
    "* in\t\n",
    "* while\n",
    "* else\t\n",
    "* is\t\n",
    "* with\n",
    "* except\t\n",
    "* lambda\t \n",
    "* yield"
   ]
  },
  {
   "cell_type": "markdown",
   "metadata": {},
   "source": [
    "## [All right, you can move on!](../2.variables-and-data-types/variables_and_data_types.ipynb)"
   ]
  }
 ],
 "metadata": {
  "kernelspec": {
   "display_name": "Python 3",
   "language": "python",
   "name": "python3"
  },
  "language_info": {
   "codemirror_mode": {
    "name": "ipython",
    "version": 3
   },
   "file_extension": ".py",
   "mimetype": "text/x-python",
   "name": "python",
   "nbconvert_exporter": "python",
   "pygments_lexer": "ipython3",
   "version": "3.7.4"
  }
 },
 "nbformat": 4,
 "nbformat_minor": 2
}