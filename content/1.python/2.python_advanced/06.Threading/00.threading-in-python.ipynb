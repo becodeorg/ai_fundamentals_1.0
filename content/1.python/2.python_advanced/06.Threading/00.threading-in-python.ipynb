{
 "cells": [
  {
   "cell_type": "markdown",
   "metadata": {},
   "source": [
    "# Programming with threading in Python\n",
    "Until now, we have used Python in a linear fashion: instructions were executed in order, and in order for the next one to run, the one before it had to be completed.\n",
    "\n",
    "But Python offers us in its standard library several modules to do \"parallel programming\", which means that several instructions of code will execute at the same time, or almost at the same time.\n",
    "\n",
    "We will take a closer look at the `threading` module, which offers a simple interface to create threads, i.e. portions of our code that will be executed at the same time.\n",
    "\n",
    "To follow this chapter, you will need to know how to create classes and the basics of inheritance.\n"
   ]
  },
  {
   "cell_type": "markdown",
   "metadata": {},
   "source": [
    "## Linear programming VS parallel programming\n",
    "So far, we have been working with \"linear\" programming. Take a look at this code:"
   ]
  },
  {
   "cell_type": "code",
   "execution_count": null,
   "metadata": {},
   "outputs": [],
   "source": [
    "import time\n",
    "print(\"Before sleep...\")\n",
    "time.sleep(2)\n",
    "print(\"After sleep.\")"
   ]
  },
  {
   "cell_type": "markdown",
   "metadata": {},
   "source": [
    "If you execute this code, unsurprisingly, the first message `Before Sleeping...` is displayed, then the program stops for a few seconds. Finally, the second message `After Sleep.` appears.\n",
    "\n",
    "This is a blocking code. During the seconds of sleep, the script is blocked and does nothing else. And that's where the threads come in. \n",
    "\n",
    "Threads allow you to execute several instructions at the same time. This is called \"parallel programming\", because instead of developing according to a single thread of instructions, several threads are developed in parallel."
   ]
  },
  {
   "cell_type": "markdown",
   "metadata": {},
   "source": [
    "## First thread\n"
   ]
  },
  {
   "cell_type": "markdown",
   "metadata": {},
   "source": [
    "Another example of linear programming is below."
   ]
  },
  {
   "cell_type": "code",
   "execution_count": null,
   "metadata": {},
   "outputs": [],
   "source": [
    "def thread_function(name):\n",
    "    print(\"Thread {}: starting\".format(name))\n",
    "    time.sleep(2)\n",
    "    print(\"Thread {}: finishing\".format(name))\n",
    "\n",
    "for i in range(5):\n",
    "    thread_function(i)"
   ]
  },
  {
   "cell_type": "markdown",
   "metadata": {},
   "source": [
    "As you can see, the instructions take 2 seconds to execute at each iteration. As the code is blocking, this script will take 10 seconds to execute. \n"
   ]
  },
  {
   "cell_type": "markdown",
   "metadata": {},
   "source": [
    "Let's tweak the code so it runs in parallel. \n",
    "\n",
    "To do this, we will have to create a class that will inherit from the `Thread` class. Then we will have to initialize `Thread` in the constructor of our class. Our class should also contain a ``run()`` method. This is the method that will be executed when we call our class."
   ]
  },
  {
   "cell_type": "code",
   "execution_count": null,
   "metadata": {},
   "outputs": [],
   "source": [
    "from threading import Thread\n",
    "\n",
    "class ThreadFunction(Thread):\n",
    "    def __init__(self, name):\n",
    "        Thread.__init__(self)\n",
    "        self.name = name\n",
    "    \n",
    "    def run(self):\n",
    "        print(\"Thread {}: starting\".format(self.name))\n",
    "        time.sleep(2)\n",
    "        print(\"Thread {}: finishing\".format(self.name))\n",
    "\n",
    "for i in range(5):\n",
    "    thread = ThreadFunction(i)\n",
    "    thread.start()"
   ]
  },
  {
   "cell_type": "markdown",
   "metadata": {},
   "source": [
    "Here we can see that each iteration also lasts 2 seconds. But in contrary to the previous example, this time each iteration runs in parallel and is executed at the same time. So the final script will only last 2 seconds in total since the code is not blocking.\n",
    "\n",
    "Parallel programming can be very convenient, but it also has its pitfalls. We will now look at some of them and the methods that exist to avoid them."
   ]
  },
  {
   "cell_type": "markdown",
   "metadata": {},
   "source": [
    "## Thread synchronization\n",
    "Programming multiple instruction streams brings its share of difficulties. At first glance, it seems very convenient to have several parts of our code running at the same time. During a task that may take a long time to run (perhaps downloading information from a website) we can do something else, not just wait for the resource to be downloaded.\n",
    "\n",
    "But development can be proportionately more complicated. You have to keep in mind that different instruction streams can be advanced to different points at a given time."
   ]
  },
  {
   "cell_type": "markdown",
   "metadata": {},
   "source": [
    "**Let's look at an example :**"
   ]
  },
  {
   "cell_type": "code",
   "execution_count": null,
   "metadata": {},
   "outputs": [],
   "source": [
    "number = 1\n",
    "number += 1"
   ]
  },
  {
   "cell_type": "markdown",
   "metadata": {},
   "source": [
    "It is the second line that interests us here : `number += 1`. If you call it in one of your threads and `number` is shared by several of your threads, you might get strange results. Not all the time. That's the problem: most of the time you won't have any problems, sometimes you will get strange results.\n",
    "\n",
    "Let's say this variable is used to count information (the number of times a certain operation is executed, maybe). If you are unlucky, two threads will access to this code but the number will only be increased by 1.\n",
    "\n",
    "This is due to the fact that number += 1 does three things:\n",
    "\n",
    "* It will retrieve the value of the variable `number`;\n",
    "\n",
    "* It will add 1 to it;\n",
    "\n",
    "* It will write the result to the variable `number`.\n",
    "\n",
    "Represent these steps on a sheet of paper. Now imagine the same steps for a second thread.\n",
    "\n",
    "Let's assume that `thread_1` and `thread_2` run almost at the same time:\n",
    "\n",
    "* `thread_1` starts executing the instruction. It executes steps 1 and 2 (i.e. it will retrieve the value of the variable number) but does not yet execute step 3 (i.e. the variable number is not yet modified) ;\n",
    "\n",
    "* and here is `thread_2` executing the instruction (all three steps this time). It retrieves `number`, adds 1 to it, and writes the result to the variable ;\n",
    "\n",
    "* Finally, `thread_1` executes step 3 and writes the result to the variable. But this value is based on the old value of `number` (before `thread_2` was called). In the end, after executing our two threads, number was only incremented by 1.\n",
    "\n",
    "As you can see here, a very simple instruction line can have unexpected results if it is called at the same time by different threads."
   ]
  },
  {
   "cell_type": "markdown",
   "metadata": {},
   "source": [
    "The problem is even more obvious when you want to access resources from different threads. For example, you want to write to a file (the same file from different threads).\n"
   ]
  },
  {
   "cell_type": "code",
   "execution_count": null,
   "metadata": {},
   "outputs": [],
   "source": [
    "\n",
    "class MyThread(Thread):\n",
    "    def __init__(self, text):\n",
    "        Thread.__init__(self)\n",
    "        self.text = text\n",
    "    \n",
    "    def run(self):\n",
    "        print(self.text)\n",
    "        with open('threads.txt', 'a') as f:\n",
    "            f.write(self.text)\n"
   ]
  },
  {
   "cell_type": "code",
   "execution_count": null,
   "metadata": {},
   "outputs": [],
   "source": [
    "thread_1 = MyThread(\"My First thread! \")\n",
    "thread_2 = MyThread(\"My Second thread! \")\n",
    "thread_3 = MyThread(\"My third thread! \")\n",
    "thread_4 = MyThread(\"My fourth thread! \")\n",
    "\n",
    "thread_1.start()\n",
    "thread_2.start()\n",
    "thread_3.start()\n",
    "thread_4.start()"
   ]
  },
  {
   "cell_type": "code",
   "execution_count": null,
   "metadata": {},
   "outputs": [],
   "source": [
    "f = open(\"threads.txt\")\n",
    "f.read()"
   ]
  },
  {
   "cell_type": "markdown",
   "metadata": {},
   "source": [
    "The results are random. Sometimes you will get the expected result, but at other times you may get some surprising results. For example, when I ran the script, I got this: \n"
   ]
  },
  {
   "cell_type": "markdown",
   "metadata": {},
   "source": [
    "``'My Second thread! My First thread! My third thread! My 4e thread! '``"
   ]
  },
  {
   "cell_type": "markdown",
   "metadata": {},
   "source": [
    "In my example, thread 2 ran before thread 1. This could give surprises in some cases. \n"
   ]
  },
  {
   "cell_type": "markdown",
   "metadata": {},
   "source": [
    "## Lock\n",
    "There are several ways to \"synchronize\" our threads, i.e. to make some of the code only run if no one is using the shared resource. The simplest synchronization mechanism is the lock.\n",
    "\n",
    "It is an object proposed by `threading` that is extremely simple to use: at the beginning of our instructions that use our shared resource, we tell the lock to block for the other threads. If another thread wants to use this resource, it must wait until it is released.\n",
    "\n",
    "Rather than a long speech, I'll give you our slightly modified code for using locks."
   ]
  },
  {
   "cell_type": "code",
   "execution_count": null,
   "metadata": {},
   "outputs": [],
   "source": [
    "from threading import Thread, RLock\n",
    "\n",
    "lock = RLock()\n",
    "\n",
    "class SyncThread(Thread):\n",
    "    def __init__(self, text):\n",
    "        Thread.__init__(self)\n",
    "        self.text = text\n",
    "    \n",
    "    def run(self):\n",
    "        with lock:\n",
    "            print(self.text)\n",
    "            with open('synch_thread.txt', 'a') as file:\n",
    "                file.write(self.text)"
   ]
  },
  {
   "cell_type": "markdown",
   "metadata": {},
   "source": [
    "1. We import `RLock` from the threading module\n",
    "1. We create a lock that we put into our `lock` variable\n",
    "1. In our `run` method, we lock part of our thread."
   ]
  },
  {
   "cell_type": "code",
   "execution_count": null,
   "metadata": {},
   "outputs": [],
   "source": [
    "thread_1 = SyncThread(\"Thread 1 /\")\n",
    "thread_2 = SyncThread(\"Thread 2 /\")\n",
    "thread_3 = SyncThread(\"Thread 3 /\")\n",
    "thread_4 = SyncThread(\"Thread 4 /\")\n",
    "\n",
    "thread_1.start()\n",
    "thread_2.start()\n",
    "thread_3.start()\n",
    "thread_4.start()"
   ]
  },
  {
   "cell_type": "code",
   "execution_count": null,
   "metadata": {},
   "outputs": [],
   "source": [
    "f = open('synch_thread.txt')\n",
    "f.read()"
   ]
  },
  {
   "cell_type": "markdown",
   "metadata": {},
   "source": [
    "You can re-run the script as many times as you want, you can see that the thread order is always respected. "
   ]
  },
  {
   "cell_type": "markdown",
   "metadata": {},
   "source": [
    "## Join "
   ]
  },
  {
   "cell_type": "markdown",
   "metadata": {},
   "source": [
    "Let's look at another scenario. In the example below, we start the thread and it is followed by a print. The print will not wait until the thread is finished to run. And this can be a problem in some cases. "
   ]
  },
  {
   "cell_type": "code",
   "execution_count": null,
   "metadata": {},
   "outputs": [],
   "source": [
    "thread = ThreadFunction(1)\n",
    "thread.start()\n",
    "print(\"hello\")"
   ]
  },
  {
   "cell_type": "markdown",
   "metadata": {},
   "source": [
    "As I was saying, here the print is sometimes executed before the end of the thread. This is not a desired behavior. \n",
    "\n",
    "To control this behavior, we can use the join method. The join method allows you to wait until the execution of the thread is finished before continuing the script normally.  "
   ]
  },
  {
   "cell_type": "code",
   "execution_count": null,
   "metadata": {},
   "outputs": [],
   "source": [
    "thread = ThreadFunction(1)\n",
    "thread.start()\n",
    "thread.join()\n",
    "print(\"hello\")"
   ]
  },
  {
   "cell_type": "markdown",
   "metadata": {},
   "source": [
    "## In summary\n",
    "* There are several mechanisms for parallel programming, including the threads offered in the `threading` module of the standard library.\n",
    "\n",
    "* Creating a thread is done by redefining a class inherited from `threading.Thread` and calling its `start()` method.\n",
    "\n",
    "* We can use locks to synchronize our threads and make some parts of our code run well after others.\n",
    "\n",
    "* We can use the join method to wait for the thread to finish executing.\n",
    "\n",
    "* Generally, we want to use threads where your code is IO-bound; that is, it spends a significant amount of time waiting on input or output. An example might be downloading data from a list of URLs in parallel; the code can start requesting the data from the next URL while still waiting for the previous one to return."
   ]
  },
  {
   "cell_type": "markdown",
   "metadata": {},
   "source": [
    "## Additional resources\n",
    "\n",
    "* [Async IO](https://realpython.com/async-io-python/)\n",
    "* [Concurrent futures](https://docs.python.org/3/library/concurrent.futures.html)\n"
   ]
  }
 ],
 "metadata": {
  "kernelspec": {
   "display_name": "Python 3",
   "language": "python",
   "name": "python3"
  },
  "language_info": {
   "codemirror_mode": {
    "name": "ipython"
   },
   "file_extension": ".py",
   "mimetype": "text/x-python",
   "name": "python",
   "nbconvert_exporter": "python"
  }
 },
 "nbformat": 4,
 "nbformat_minor": 2
}
