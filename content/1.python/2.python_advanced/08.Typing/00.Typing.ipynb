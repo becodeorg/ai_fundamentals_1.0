{
 "cells": [
  {
   "cell_type": "markdown",
   "metadata": {},
   "source": [
    "# Typing in python\n",
    "In recent years, type annotation syntax and semantics have been gradually introduced into the Python language. Typing in Python is still a fairly new and often misunderstood subject. In this course, we will present its basics, while some more advanced features will be covered in the rest of this text.\n",
    "\n",
    "All programming languages include some kind of type system that formalizes which categories of objects it can work with and how those categories are treated. For instance, a type system can define a numerical type, with 42 as one example of an object of numerical type.\n",
    "\n",
    "## Dynamic Typing\n",
    "\n",
    "A language is dynamically typed if the type is associated with run-time values, and not named variables/fields/etc. This means that you as a programmer can write a little quicker because you do not have to specify types every time (unless using a statically-typed language with type inference).\n",
    "\n",
    "Python is a dynamically typed language. This means that the Python interpreter does type checking only as code runs, and that the type of a variable is allowed to change over its lifetime. The following dummy examples demonstrate that Python has dynamic typing"
   ]
  },
  {
   "cell_type": "markdown",
   "metadata": {},
   "source": [
    "Consider the following code. In Python, this is totally acceptable."
   ]
  },
  {
   "cell_type": "code",
   "execution_count": 2,
   "metadata": {},
   "outputs": [],
   "source": [
    "age = 21\n",
    "print(age)  # 21\n",
    "age = \"Twenty One\"\n",
    "print(age)  # Twenty One"
   ]
  },
  {
   "cell_type": "markdown",
   "metadata": {},
   "source": [
    "In the code above, the value of ```age``` is first an ```int```, but then we change it to a ```str``` later on. Every variable can represent any value at any point in the program. That is the power of dynamic typing!"
   ]
  },
  {
   "cell_type": "markdown",
   "metadata": {},
   "source": [
    "Let's try to do the same thing in a ```statically typed``` language, like Java.\n",
    "\n",
    "```java\n",
    "int age = 21;\n",
    "System.out.print(age);\n",
    "age = \"Twenty One\";\n",
    "System.out.print(age);\n",
    "```\n",
    "\n",
    "We actually end up with the following error.\n",
    "```\n",
    "Error: incompatible types: String cannot be converted to int\n",
    "```\n",
    "\n",
    "That's because we are trying to assign ```\"Twenty One\"``` (a ```String```) to the variable ```age``` that was declared as an ```int```."
   ]
  },
  {
   "cell_type": "markdown",
   "metadata": {},
   "source": [
    "## Duck Typing\n",
    "\n",
    "Another term that is often used when talking about Python is duck typing. This moniker comes from the phrase “if it walks like a duck and it quacks like a duck, then it must be a duck” (or any of its variations).\n",
    "\n",
    "Duck typing is a concept related to dynamic typing, where the type or the class of an object is less important than the methods it defines. Using duck typing you do not check types at all. Instead you check for the presence of a given ___method___ or ___attribute___.\n",
    "\n",
    "As an example, you can call ```len()``` on any Python object that defines a ```.__len__()``` method:\n"
   ]
  },
  {
   "cell_type": "code",
   "execution_count": 2,
   "metadata": {},
   "outputs": [
    {
     "data": {
      "text/plain": [
       "95022"
      ]
     },
     "execution_count": 2,
     "metadata": {},
     "output_type": "execute_result"
    }
   ],
   "source": [
    "class TheHobbit:\n",
    "    def __len__(self):\n",
    "        return 95022\n",
    "\n",
    "the_hobbit = TheHobbit()\n",
    "len(the_hobbit)"
   ]
  },
  {
   "cell_type": "markdown",
   "metadata": {},
   "source": [
    "Note that the call to ```len()``` gives the return value of the ```.__len__()``` method. In fact, the implementation of ```len()``` is essentially equivalent to the following:"
   ]
  },
  {
   "cell_type": "code",
   "execution_count": 3,
   "metadata": {},
   "outputs": [],
   "source": [
    "def len(obj):\n",
    "    return obj.__len__()"
   ]
  },
  {
   "cell_type": "markdown",
   "metadata": {},
   "source": [
    "In order to call ```len(obj)```, the only real constraint on ___obj___ is that it must define a ```.__len__()``` method. Otherwise, the object can be of types as different as ___str___, ___list___, ___dict___, or ___TheHobbit___.\n",
    "\n",
    "Duck typing is somewhat supported when doing static type checking of Python code, using ___structural subtyping___."
   ]
  },
  {
   "cell_type": "markdown",
   "metadata": {},
   "source": [
    "## What Are Type Annotations?\n",
    "\n",
    "Type Annotations are a new feature added in PEP 484 that allow for adding **_type hints_** to variables. They are used to inform someone reading the code what the type of a variable **_should be_**. This brings a sense of statically typed control to the dynamically typed Python. This is accomplished by adding ```: <type>``` after initializing/declaring a variable."
   ]
  },
  {
   "cell_type": "markdown",
   "metadata": {},
   "source": [
    "An example is shown below, which adds the ```: int``` when we declare the variable to show that ```age``` should be of type ```int```."
   ]
  },
  {
   "cell_type": "code",
   "execution_count": null,
   "metadata": {},
   "outputs": [],
   "source": [
    "age: int = 5\n",
    "print(age)"
   ]
  },
  {
   "cell_type": "markdown",
   "metadata": {},
   "source": [
    "It is important to note that type annotations do not affect the runtime of the program in any way. These hints are ignored by the interpreter and are used solely to increase the readability for other programmers and yourself. They are not enforced are runtime."
   ]
  },
  {
   "cell_type": "markdown",
   "metadata": {},
   "source": [
    "## Function Annotations"
   ]
  },
  {
   "cell_type": "markdown",
   "metadata": {},
   "source": [
    "Consider the following code below:"
   ]
  },
  {
   "cell_type": "code",
   "execution_count": 6,
   "metadata": {},
   "outputs": [],
   "source": [
    "def mystery_combine(a, b, times):\n",
    "    return (a + b) * times"
   ]
  },
  {
   "cell_type": "markdown",
   "metadata": {},
   "source": [
    "We can see what that function is doing, but do we know what ```a```, ```b```, or ```times``` are supposed to be? Look at the following code, especially at the two lines where we call the ```mystery_combine``` with different types of arguments. Observe each version's output, which is shown in the comments below each block."
   ]
  },
  {
   "cell_type": "code",
   "execution_count": 7,
   "metadata": {},
   "outputs": [
    {
     "name": "stdout",
     "output_type": "stream",
     "text": [
      "20\n"
     ]
    }
   ],
   "source": [
    "print(mystery_combine(2, 3, 4))"
   ]
  },
  {
   "cell_type": "code",
   "execution_count": 8,
   "metadata": {},
   "outputs": [
    {
     "name": "stdout",
     "output_type": "stream",
     "text": [
      "Hello World! Hello World! Hello World! Hello World! \n"
     ]
    }
   ],
   "source": [
    "print(mystery_combine('Hello ', 'World! ', 4))"
   ]
  },
  {
   "cell_type": "markdown",
   "metadata": {},
   "source": [
    "Hmm, based on what we pass the function, we get two totally different results. With integers we get some nice math, but when we pass strings to the function, we can see that the first two arguments are concatenated, and that resulting string is multiplied ```times``` times. \n",
    "\n",
    "It turns out that the developer who wrote the function actually anticipated the second version to be the use case of ```mystery_combine```! Using type annotations, we can clear up this confusion."
   ]
  },
  {
   "cell_type": "code",
   "execution_count": null,
   "metadata": {},
   "outputs": [],
   "source": [
    "def mystery_combine(a: str, b: str, times: int) -> str:\n",
    "    return (a + b) * times"
   ]
  },
  {
   "cell_type": "markdown",
   "metadata": {},
   "source": [
    "We have added ```: str```, ```: str```, and ```: int``` to the function's parameters to show what types they should be. This will hopefully make the code clearer to read, and reveal it's purpose a little more.\n",
    "\n",
    "We also added the ```-> str``` to show that this function will return a ___str___. Using ```-> <type>```, we can more easily show the return value types of any function or method, to avoid confusion by future developers!"
   ]
  },
  {
   "cell_type": "markdown",
   "metadata": {},
   "source": [
    "## Complex Types\n",
    "\n",
    "The previous section handles many of the basic use cases of type annotations, but nothing is ever just basic, so let's break down some more complex cases.\n",
    "\n",
    "For anything more than a primitive in Python, use the ```typing``` class. It describes types to type annotate any variable of any type. It comes preloaded with type annotations such as ```Dict```, ```Tuple```, ```List```, ```Set```, and more! Then you can expand your type hints into use cases like the example below."
   ]
  },
  {
   "cell_type": "code",
   "execution_count": null,
   "metadata": {},
   "outputs": [],
   "source": [
    "from typing import List\n",
    "\n",
    "def print_names(names: List[str]) -> None:\n",
    "    for student in names:\n",
    "        print(student)"
   ]
  },
  {
   "cell_type": "markdown",
   "metadata": {},
   "source": [
    "This will tell the reader that names should be a list of strings. Dictionaries work in a similar fashion."
   ]
  },
  {
   "cell_type": "code",
   "execution_count": null,
   "metadata": {},
   "outputs": [],
   "source": [
    "from typing import Dict\n",
    "\n",
    "def print_name_and_grade(grades: Dict[str, float]) -> None:\n",
    "    for student, grade in grades.items():\n",
    "        print(student, grade)"
   ]
  },
  {
   "cell_type": "markdown",
   "metadata": {},
   "source": [
    "The ```Dict[str, float]``` type hint tells us that ```grades``` should be a dictionary where the keys are strings and the values are floats.\n"
   ]
  },
  {
   "cell_type": "markdown",
   "metadata": {},
   "source": [
    "Use ```Optional``` when the value will be be either of a certain ___type___ or ```None```, exclusively."
   ]
  },
  {
   "cell_type": "code",
   "execution_count": 9,
   "metadata": {},
   "outputs": [],
   "source": [
    "from typing import Optional\n",
    "\n",
    "def try_to_print(some_num: Optional[int]):\n",
    "    if some_num:\n",
    "        print(some_num)\n",
    "    else:\n",
    "        print('Value was None!')"
   ]
  },
  {
   "cell_type": "markdown",
   "metadata": {},
   "source": [
    "Use ```Union``` when the value can take on more specific ___types___."
   ]
  },
  {
   "cell_type": "code",
   "execution_count": 10,
   "metadata": {},
   "outputs": [],
   "source": [
    "from typing import Union\n",
    "\n",
    "def print_grade(grade: Union[int, str]):\n",
    "    if isinstance(grade, str):\n",
    "        print(grade + ' percent')\n",
    "    else:\n",
    "        print(str(grade) + '%')"
   ]
  },
  {
   "cell_type": "markdown",
   "metadata": {},
   "source": [
    "The above code indicates that ```grade``` can either be of type ```int``` or ```str```. This is helpful in our example of printing grades, so that we can print either ___98%___ or ___Ninety Eight Percent___, with no unexpected consequences."
   ]
  },
  {
   "cell_type": "markdown",
   "metadata": {},
   "source": [
    "## Why Use Type Annotations ?"
   ]
  },
  {
   "cell_type": "markdown",
   "metadata": {},
   "source": [
    "- Type hints help **document your code**. Traditionally, you would use docstrings if you wanted to document the expected types of a function’s arguments. This works, but as there is no standard for docstrings (despite PEP 257 they can’t be easily used for automatic checks."
   ]
  },
  {
   "cell_type": "markdown",
   "metadata": {},
   "source": [
    "- Type hints **improve IDEs and linters**. They make it much easier to statically reason about your code. This in turn allows IDEs to offer better code completion and similar features. With the type annotation, PyCharm knows that text is a string, and can give specific suggestions based on this."
   ]
  },
  {
   "cell_type": "markdown",
   "metadata": {},
   "source": [
    "- Type hints help you **build and maintain a cleaner architecture**. The act of writing type hints forces you to think about the types in your program. While the dynamic nature of Python is one of its great assets, being conscious about relying on duck typing, overloaded methods, or multiple return types is a good thing."
   ]
  },
  {
   "cell_type": "markdown",
   "metadata": {},
   "source": [
    "- Type hints help **catch certain errors**. You can use a **static type checker** like ```MyPy``` to catch errors based on your hints. You might already have such a type checker built into your editor. For instance **PyCharm** immediately gives you a warning."
   ]
  }
 ],
 "metadata": {
  "kernelspec": {
   "display_name": "Python 3",
   "language": "python",
   "name": "python3"
  },
  "language_info": {
   "codemirror_mode": {
    "name": "ipython",
    "version": 3
   },
   "file_extension": ".py",
   "mimetype": "text/x-python",
   "name": "python",
   "nbconvert_exporter": "python",
   "pygments_lexer": "ipython3",
   "version": "3.7.3"
  }
 },
 "nbformat": 4,
 "nbformat_minor": 2
}
