{
 "cells": [
  {
   "cell_type": "markdown",
   "metadata": {},
   "source": [
    "# Encapsulation in Python"
   ]
  },
  {
   "cell_type": "markdown",
   "metadata": {},
   "source": [
    "Encapsulation is one of the fundamental concepts of object-oriented programming (OOP). It describes the idea of data encapsulation and the methods that work with data within a unit. It limits direct access to variables and methods and can prevent accidental modification of data. To prevent accidental modification, the variable of an object can only be modified by the method of an object. \n",
    "\n",
    "In C++, Java, or PHP things are pretty straight-forward. There are 3 magical and easy to remember access modifiers, that will do the job (public, protected and private). But there’s no such a thing in Python.  \n",
    "\n",
    "That said, there is a way to simulate these behaviours. We are going to see how to do it."
   ]
  },
  {
   "cell_type": "markdown",
   "metadata": {},
   "source": [
    "## Public method "
   ]
  },
  {
   "cell_type": "markdown",
   "metadata": {},
   "source": [
    "All methods and attributes default to public in Python.   \n",
    "So if you want to put your attributes and methods in public you don't have to do anything at all."
   ]
  },
  {
   "cell_type": "code",
   "execution_count": 1,
   "metadata": {},
   "outputs": [],
   "source": [
    "class Blackboard:\n",
    "    \"\"\" Class defining a surface on which to write,\n",
    "    that can be read and deleted, by a set of methods. The modified attribute\n",
    "    is \"surface\" \"\"\"\n",
    "\n",
    "\n",
    "    \n",
    "    def __init__(self):\n",
    "        \"\"\"By default, our surface is empty\"\"\"\n",
    "        self.surface = \"\"\n",
    "        \n",
    "    def write(self, message_written):\n",
    "        \"\"\" Method for writing on the surface of the table.\n",
    "        If the surface is not empty, we skip a line before adding\n",
    "        the message to be written\"\"\"\n",
    "        \n",
    "        if self.surface != \"\":\n",
    "            self.surface += '\\n'\n",
    "        self.surface += message_written\n",
    "    \n",
    "    def read(self):\n",
    "        return self.surface"
   ]
  },
  {
   "cell_type": "code",
   "execution_count": 6,
   "metadata": {},
   "outputs": [
    {
     "data": {
      "text/plain": [
       "'Hello guys'"
      ]
     },
     "execution_count": 6,
     "metadata": {},
     "output_type": "execute_result"
    }
   ],
   "source": [
    "board = Blackboard()\n",
    "board.write(\"an another message\")\n",
    "board.surface = \"Hello guys\"\n",
    "board.read()"
   ]
  },
  {
   "cell_type": "markdown",
   "metadata": {},
   "source": [
    "## Protected method"
   ]
  },
  {
   "cell_type": "markdown",
   "metadata": {},
   "source": [
    "Protected member is (in C++ and Java) accessible only from within the class and it’s subclasses. How to accomplish this in Python?   \n",
    "The answer is _ by convention. By prefixing the name of your member with a single underscore, you’re telling others “don’t touch this, unless you’re a subclass”.\n",
    "\n",
    "It's related to the Python's philosophy. If you check the documentation they say 'we are all adults here'."
   ]
  },
  {
   "cell_type": "code",
   "execution_count": 7,
   "metadata": {},
   "outputs": [],
   "source": [
    "class Blackboard:\n",
    "    \"\"\" Class defining a surface on which to write,\n",
    "    that can be read and deleted, by a set of methods. The modified attribute\n",
    "    is \"surface\" \"\"\"\n",
    "\n",
    "\n",
    "    \n",
    "    def __init__(self):\n",
    "        \"\"\"By default, our surface is empty\"\"\"\n",
    "        self._surface = \"\"\n",
    "        \n",
    "    def write(self, message_written):\n",
    "        \"\"\" Method for writing on the surface of the table.\n",
    "        If the surface is not empty, we skip a line before adding\n",
    "        the message to be written\"\"\"\n",
    "        \n",
    "        if self._surface != \"\":\n",
    "            self._surface += '\\n'\n",
    "        self._surface += message_written\n",
    "    \n",
    "    def read(self):\n",
    "        return self._surface"
   ]
  },
  {
   "cell_type": "markdown",
   "metadata": {},
   "source": [
    "But it's just a convention. If you try to change the attribute anyway, it won't cause an error and the attribute will change. "
   ]
  },
  {
   "cell_type": "code",
   "execution_count": 8,
   "metadata": {},
   "outputs": [
    {
     "data": {
      "text/plain": [
       "'Hello guys'"
      ]
     },
     "execution_count": 8,
     "metadata": {},
     "output_type": "execute_result"
    }
   ],
   "source": [
    "board = Blackboard()\n",
    "board.write(\"another message\")\n",
    "board._surface = \"Hello guys\"\n",
    "board.read()"
   ]
  },
  {
   "cell_type": "markdown",
   "metadata": {},
   "source": [
    "## Private method\n",
    "If you want to make your methods and attributes inaccessible, even for child classes, then you must declare them privately. And how do you simulate a private declaration in python? \n",
    "\n",
    "We use the [name mangling!](https://en.wikipedia.org/wiki/Name_mangling#Name_mangling_in_Python)\n",
    "\n",
    "And for this case, we use a double underscore."
   ]
  },
  {
   "cell_type": "code",
   "execution_count": 9,
   "metadata": {},
   "outputs": [],
   "source": [
    "class Blackboard:\n",
    "    \"\"\" Class defining a surface on which to write,\n",
    "    that can be read and deleted, by a set of methods. The modified attribute\n",
    "    is \"surface\" \"\"\"\n",
    "\n",
    "\n",
    "    \n",
    "    def __init__(self):\n",
    "        \"\"\"By default, our surface is empty\"\"\"\n",
    "        self.__surface = \"\"\n",
    "        \n",
    "    def write(self, message_written):\n",
    "        \"\"\" Method for writing on the surface of the table.\n",
    "        If the surface is not empty, we skip a line before adding\n",
    "        the message to be written\"\"\"\n",
    "        \n",
    "        if self.__surface != \"\":\n",
    "            self.__surface += '\\n'\n",
    "        self.__surface += message_written\n",
    "    \n",
    "    def read(self):\n",
    "        return self.__surface"
   ]
  },
  {
   "cell_type": "code",
   "execution_count": 11,
   "metadata": {},
   "outputs": [
    {
     "data": {
      "text/plain": [
       "''"
      ]
     },
     "execution_count": 11,
     "metadata": {},
     "output_type": "execute_result"
    }
   ],
   "source": [
    "board = Blackboard()\n",
    "board.__surface = \"Hello guys\"\n",
    "board.read()"
   ]
  },
  {
   "cell_type": "markdown",
   "metadata": {},
   "source": [
    "This time we can see that the value of the attribute self.__surface has not changed. "
   ]
  }
 ],
 "metadata": {
  "kernelspec": {
   "display_name": "Python 3",
   "language": "python",
   "name": "python3"
  },
  "language_info": {
   "codemirror_mode": {
    "name": "ipython",
    "version": 3
   },
   "file_extension": ".py",
   "mimetype": "text/x-python",
   "name": "python",
   "nbconvert_exporter": "python",
   "pygments_lexer": "ipython3",
   "version": "3.8.5"
  }
 },
 "nbformat": 4,
 "nbformat_minor": 2
}
