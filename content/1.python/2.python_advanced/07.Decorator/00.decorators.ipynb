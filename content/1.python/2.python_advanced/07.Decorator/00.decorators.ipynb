{
 "cells": [
  {
   "cell_type": "markdown",
   "metadata": {},
   "source": [
    "# Decorators \n",
    "\n",
    "You've probably already heard of \"decorators\". This is a feature that is widely used in the Python world. They allow you to write concise, readable and non-repetitive code.\n",
    "\n",
    "Concretely, a decorator is a callable that takes a callable as an argument and returns a copy of the same callable by \"decorating\" it, i.e. pre-processing and/or post-processing it. In the jargon, this is often referred to as wrapping (wrapping, sprinkling, adding something extra, decorating).\n",
    "\n"
   ]
  },
  {
   "cell_type": "code",
   "execution_count": 22,
   "metadata": {},
   "outputs": [],
   "source": [
    "def decorator(f):\n",
    "    print(f.__name__)\n",
    "    return f"
   ]
  },
  {
   "cell_type": "markdown",
   "metadata": {},
   "source": [
    "To apply a decorator, we precede the definition line of the function to be decorated with a line containing an @ then the name of the decorator to be applied, for example :"
   ]
  },
  {
   "cell_type": "code",
   "execution_count": 23,
   "metadata": {},
   "outputs": [
    {
     "name": "stdout",
     "output_type": "stream",
     "text": [
      "addition\n"
     ]
    }
   ],
   "source": [
    "@decorator\n",
    "def addition(a, b):\n",
    "    return a + b"
   ]
  },
  {
   "cell_type": "code",
   "execution_count": 25,
   "metadata": {},
   "outputs": [
    {
     "data": {
      "text/plain": [
       "11"
      ]
     },
     "execution_count": 25,
     "metadata": {},
     "output_type": "execute_result"
    }
   ],
   "source": [
    "addition(5,6)"
   ]
  },
  {
   "cell_type": "markdown",
   "metadata": {},
   "source": [
    "It is therefore clear that the decorator is applied when the function is defined, and not when it is called. Here we use a very simple decorator that returns the same function, but it could very well be that it returns another one, which would for example be created on the fly.\n",
    "\n",
    "This has the effect of replacing addition by the return of the decorator function called with addition in parameter, which is strictly equivalent to :\n",
    "\n"
   ]
  },
  {
   "cell_type": "code",
   "execution_count": 24,
   "metadata": {},
   "outputs": [
    {
     "name": "stdout",
     "output_type": "stream",
     "text": [
      "addition\n"
     ]
    }
   ],
   "source": [
    "def addition(a, b):\n",
    "    return a + b\n",
    "\n",
    "addition = decorator(addition)"
   ]
  },
  {
   "cell_type": "markdown",
   "metadata": {},
   "source": [
    "Let's say we would like to change our addition function to display the operands and then the result, without touching the body of our function. We can make a decorator that will return a new function that will display the parameters, call our original function, then display the return and return it (to keep the original behavior).\n",
    "\n",
    "Thus, our decorator becomes :"
   ]
  },
  {
   "cell_type": "code",
   "execution_count": 46,
   "metadata": {},
   "outputs": [],
   "source": [
    "def print_decorator(function):\n",
    "    def new_function(a, b): # New function behaving as the function to be decorated\n",
    "        print('Add of numbers {} and {}'.format(a, b))\n",
    "        ret = function(a, b) # Call to function \n",
    "        print('Return: {}'.format(ret))\n",
    "        return ret\n",
    "    return new_function # don't forget to return new function"
   ]
  },
  {
   "cell_type": "markdown",
   "metadata": {},
   "source": [
    "If we now apply this decorator to our addition function:"
   ]
  },
  {
   "cell_type": "code",
   "execution_count": 47,
   "metadata": {},
   "outputs": [],
   "source": [
    "@print_decorator\n",
    "def addition(a, b):\n",
    "    return a + b"
   ]
  },
  {
   "cell_type": "code",
   "execution_count": 48,
   "metadata": {},
   "outputs": [
    {
     "name": "stdout",
     "output_type": "stream",
     "text": [
      "Add of numbers 1 and 2\n",
      "Return: 3\n"
     ]
    },
    {
     "data": {
      "text/plain": [
       "3"
      ]
     },
     "execution_count": 48,
     "metadata": {},
     "output_type": "execute_result"
    }
   ],
   "source": [
    "addition(1, 2)"
   ]
  },
  {
   "cell_type": "markdown",
   "metadata": {},
   "source": [
    "But our decorator is very specialized here, it only works with functions taking two parameters, and will display \"Addition\" in all cases. We can modify it to make it more generic (remember args and *kwargs)."
   ]
  },
  {
   "cell_type": "code",
   "execution_count": 33,
   "metadata": {},
   "outputs": [],
   "source": [
    "def print_decorator(function):\n",
    "    def new_function(*args, **kwargs):\n",
    "        print('Appel de la fonction {} avec args={} et kwargs={}'.format(\n",
    "            function.__name__, args, kwargs))\n",
    "        ret = function(*args, **kwargs)\n",
    "        print('Retour: {}'.format(ret))\n",
    "        return ret\n",
    "    return new_function"
   ]
  },
  {
   "cell_type": "markdown",
   "metadata": {},
   "source": [
    "I'll let you try it out on different functions to see how generic it is.\n",
    "\n",
    "Function definitions are not limited to one decorator: you can specify as many as you want, by placing them one after the other.\n",
    "\n"
   ]
  },
  {
   "cell_type": "code",
   "execution_count": 35,
   "metadata": {},
   "outputs": [
    {
     "name": "stdout",
     "output_type": "stream",
     "text": [
      "new_function\n"
     ]
    }
   ],
   "source": [
    "@decorator\n",
    "@print_decorator\n",
    "def useless():\n",
    "    pass"
   ]
  },
  {
   "cell_type": "markdown",
   "metadata": {},
   "source": [
    "The order in which they are specified is important, the previous code is equivalent to :"
   ]
  },
  {
   "cell_type": "code",
   "execution_count": 37,
   "metadata": {},
   "outputs": [
    {
     "name": "stdout",
     "output_type": "stream",
     "text": [
      "new_function\n"
     ]
    }
   ],
   "source": [
    "def useless():\n",
    "    pass\n",
    "useless = decorator(print_decorator(useless))"
   ]
  },
  {
   "cell_type": "markdown",
   "metadata": {},
   "source": [
    "So we can see that the decorators specified first are those that will be applied last.\n",
    "\n",
    "I said earlier that the decorators apply to functions. This is also true for functions defined within classes (i.e. methods). But you should also know that decorators extend to class declarations"
   ]
  },
  {
   "cell_type": "code",
   "execution_count": 38,
   "metadata": {},
   "outputs": [
    {
     "name": "stdout",
     "output_type": "stream",
     "text": [
      "method\n"
     ]
    }
   ],
   "source": [
    "@print_decorator\n",
    "class MyClass:\n",
    "    @decorator\n",
    "    def method(self):\n",
    "        pass"
   ]
  },
  {
   "cell_type": "markdown",
   "metadata": {},
   "source": [
    "Although the definition is broader than that. The decorator is a callable taking a callable as a parameter, and can return any type of object.\n",
    "\n",
    "We have seen how to apply a decorator to a function, however we may want to parameterize the behavior of this decorator. In our previous example (print_decorator), we display text before and after the function call. But what do we do if we want to change this text (to change the language, use a term other than \"function\")?\n",
    "\n",
    "We don't want to have to create a different decorator for every possible and imaginable sentence. We'd like to be able to pass our strings to our decorator so that it can display them at the right time.\n",
    "\n",
    "In fact, @ doesn't have to be followed by an object name, arguments can also be added to it using parentheses (as we would do for a call). But the behavior may seem strange to you at first glance.\n",
    "\n",
    "For example, to use such a parameterized decorator :\n"
   ]
  },
  {
   "cell_type": "code",
   "execution_count": 49,
   "metadata": {},
   "outputs": [],
   "source": [
    "@param_print_decorator('call {} with args({}) and kwargs({})', 'ret={}')\n",
    "def test_func(x):\n",
    "    return x"
   ]
  },
  {
   "cell_type": "markdown",
   "metadata": {},
   "source": [
    "We will need to have a callable param_print_decorator which, when called, will return a decorator that can then be applied to our function. So a param decorator is just a callable that returns a simple decorator.\n",
    "\n",
    "The param_print_decorator code would thus look like :"
   ]
  },
  {
   "cell_type": "code",
   "execution_count": 40,
   "metadata": {},
   "outputs": [],
   "source": [
    "def param_print_decorator(before, after): \n",
    "    def decorator(function):\n",
    "        def new_function(*args, **kwargs): \n",
    "            print(before.format(function.__name__, args, kwargs))\n",
    "            ret = function(*args, **kwargs)\n",
    "            print(after.format(ret))\n",
    "            return ret\n",
    "        return new_function\n",
    "    return decorator"
   ]
  },
  {
   "cell_type": "markdown",
   "metadata": {},
   "source": [
    "A function is not just a piece of code with parameters. It is also a name (names, with those of the parameters), documentation (docstring), annotations, etc. When we decorate a function at the moment (in cases where we return a new one), we lose all this related information.\n",
    "\n",
    "Here is an example to illustrate this:"
   ]
  },
  {
   "cell_type": "code",
   "execution_count": 52,
   "metadata": {},
   "outputs": [
    {
     "name": "stdout",
     "output_type": "stream",
     "text": [
      "Help on function decorated in module __main__:\n",
      "\n",
      "decorated(*args, **kwargs)\n",
      "\n"
     ]
    }
   ],
   "source": [
    "def decorator(f):\n",
    "    def decorated(*args, **kwargs):\n",
    "         return f(*args, **kwargs)\n",
    "    return decorated\n",
    "    \n",
    "@decorator\n",
    "def addition(a, b):\n",
    "    \"This function make the addition\"\n",
    "    return a + b\n",
    "\n",
    "\n",
    "help(addition)"
   ]
  },
  {
   "cell_type": "markdown",
   "metadata": {},
   "source": [
    "For more information of decorators, please read https://realpython.com/primer-on-python-decorators/"
   ]
  },
  {
   "cell_type": "code",
   "execution_count": null,
   "metadata": {},
   "outputs": [],
   "source": []
  }
 ],
 "metadata": {
  "kernelspec": {
   "display_name": "Python 3",
   "language": "python",
   "name": "python3"
  },
  "language_info": {
   "codemirror_mode": {
    "name": "ipython",
    "version": 2
   },
   "file_extension": ".py",
   "mimetype": "text/x-python",
   "name": "python",
   "nbconvert_exporter": "python",
   "pygments_lexer": "ipython2",
   "version": "2.7.17"
  }
 },
 "nbformat": 4,
 "nbformat_minor": 2
}
