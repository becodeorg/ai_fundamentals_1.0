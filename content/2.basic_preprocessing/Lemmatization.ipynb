{
 "cells": [
  {
   "cell_type": "markdown",
   "metadata": {},
   "source": [
    "# Lemmatization\n",
    "\n",
    "As we saw in the previous chapter, we can explain to the machine which words are similar but also how different there are. But sometimes you don't want to catch the difference between those words, let's take an example.\n",
    "\n",
    "You can building a model to classify books, for that you want to take a list of the most recurrent words in each category. You have books about cooking and books about cars.\n",
    "You don't really want to make a distinction between `wheel` and `wheels` or between `foot` and `feet` for example. To fix that, we will apply **lemmatization** which will put each word in its simplest variation.\n",
    "\n",
    "## Still confused?\n",
    "Let's see how it works in a practical case.\n",
    "\n",
    "First, read [this article](https://www.machinelearningplus.com/nlp/lemmatization-examples-python/).\n",
    "\n",
    "Then, try to apply what you have learned.\n",
    "\n",
    "**Pro tips:** Most lemmatizers only work with a single word and not on sentences. Think about tokenizing your sentence first.\n",
    "\n",
    "**Pro tips:** If you experience SSL issues during `nltk` import [check this](https://stackoverflow.com/questions/38916452/nltk-download-ssl-certificate-verify-failed)."
   ]
  },
  {
   "cell_type": "code",
   "execution_count": null,
   "metadata": {},
   "outputs": [],
   "source": [
    "# Can you lemmatize this sentence with nltk?\n",
    "\n",
    "my_sentence = \"Those childs are playing. this game, those games, I play he plays\"\n",
    "\n",
    "\n"
   ]
  },
  {
   "cell_type": "markdown",
   "metadata": {},
   "source": [
    "What are the differences?\n",
    "\n",
    "## Conclusion\n",
    "There are multiple libraries that allow you to do lemmatization. Each of them have their particularities.\n",
    "There are also other techniques to \"simplify\" words like [Stemming](https://medium.com/swlh/introduction-to-stemming-vs-lemmatization-nlp-8c69eb43ecfe). Feel free explore those that seems relevant to your use-case.\n",
    "\n",
    "![stemming vs lemmatization](https://miro.medium.com/max/2050/1*ES5bt7IoInIq2YioQp2zcQ.png)\n"
   ]
  }
 ],
 "metadata": {
  "kernelspec": {
   "display_name": "Python 3",
   "language": "python",
   "name": "python3"
  },
  "language_info": {
   "codemirror_mode": {
    "name": "ipython"
   },
   "file_extension": ".py",
   "mimetype": "text/x-python",
   "name": "python",
   "nbconvert_exporter": "python"
  }
 },
 "nbformat": 4,
 "nbformat_minor": 2
}
