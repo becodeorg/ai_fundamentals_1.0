{
 "cells": [
  {
   "cell_type": "markdown",
   "metadata": {},
   "source": [
    "# POS tagging\n",
    "\n",
    "To help the machine understand a sentence, we will tell it what each word is.\n",
    "For that we use **P**art **O**f **S**peech tagging and **Chunking**.\n",
    "\n",
    "## What is Part of Speech?\n",
    "\n",
    "\"The part of speech explains how a word is used in a sentence. There are eight main parts of speech: nouns, pronouns, adjectives, verbs, adverbs, prepositions, conjunctions and interjections.\"\n",
    "\n",
    "- [Source](https://medium.com/greyatom/learning-pos-tagging-chunking-in-nlp-85f7f811a8cb)\n",
    "\n",
    "## What is chunking\n",
    "\n",
    "\"Chunking is a process of extracting phrases from unstructured text. Instead of just simple tokens which may not represent the actual meaning of the text, its advisable to use phrases such as “South Africa” as a single word instead of ‘South’ and ‘Africa’ separate words.\"\n",
    "\n",
    "- [Source](https://medium.com/greyatom/learning-pos-tagging-chunking-in-nlp-85f7f811a8cb)\n",
    "\n",
    "## How to do that?\n",
    "\n",
    "Well, every library has its own way of doing it.\n",
    "Let's see how SpaCy does it. When you use the `nlp` object from it, it applies a complete preprocessing pipeline, including POS tagging and chunking.\n",
    "\n",
    "Let see how it's done with [displacy, their vizaluazation tool](https://spacy.io/usage/visualizers):"
   ]
  },
  {
   "cell_type": "code",
   "execution_count": null,
   "metadata": {},
   "outputs": [],
   "source": [
    "import spacy\n",
    "from spacy import displacy\n",
    "\n",
    "nlp = spacy.load(\"en_core_web_sm\")\n",
    "text = \"\"\"In ancient Rome, some neighbors live in three adjacent houses. In the center is the house of Senex, who lives there with wife Domina, son Hero, and several slaves, including head slave Hysterium and the musical's main character Pseudolus.\"\"\"\n",
    "\n",
    "# Preprocess the text\n",
    "doc = nlp(text)\n",
    "# Create a list of sentence\n",
    "sentence_spans = list(doc.sents)\n",
    "# Display SpaCy vizualizer for each sentence\n",
    "displacy.render(sentence_spans, style=\"dep\")"
   ]
  },
  {
   "cell_type": "markdown",
   "metadata": {},
   "source": [
    "Now, search how SpaCy chunks the text. "
   ]
  },
  {
   "cell_type": "code",
   "execution_count": null,
   "metadata": {},
   "outputs": [],
   "source": [
    "# Print the text's chunking\n",
    "\n",
    "\n"
   ]
  },
  {
   "cell_type": "markdown",
   "metadata": {},
   "source": [
    "# Additional resources\n",
    "* [Learning POS tagging & chunking in NLP](https://medium.com/greyatom/learning-pos-tagging-chunking-in-nlp-85f7f811a8cb)\n",
    "* [Spacy API](https://spacy.io/api)"
   ]
  }
 ],
 "metadata": {
  "kernelspec": {
   "display_name": "Python 3",
   "language": "python",
   "name": "python3"
  },
  "language_info": {
   "codemirror_mode": {
    "name": "ipython"
   },
   "file_extension": ".py",
   "mimetype": "text/x-python",
   "name": "python",
   "nbconvert_exporter": "python"
  }
 },
 "nbformat": 4,
 "nbformat_minor": 2
}
