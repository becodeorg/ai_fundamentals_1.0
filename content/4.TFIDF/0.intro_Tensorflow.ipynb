## Useful links:
- https://www.youtube.com/watch?v=f5liqUk0ZTw
- https://www.tensorflow.org/install/
  
