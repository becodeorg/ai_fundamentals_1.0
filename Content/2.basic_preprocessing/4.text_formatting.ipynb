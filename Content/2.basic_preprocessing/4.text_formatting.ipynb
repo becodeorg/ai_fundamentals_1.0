{
 "cells": [
  {
   "cell_type": "markdown",
   "metadata": {},
   "source": [
    "# Lowercase the text and spaces\n",
    "\n",
    "## Text casing\n",
    "The text casing will also have an influence on your model. If you are looking for address, names, and so on, it will help the model. But if you want to do document classification, the model will do a difference between `doctor` and `Doctor` and you don't want that, so in this case, you should lowercase all the text.\n",
    "\n",
    "## Space trailing\n",
    "\n",
    "When you extract text from documents, sometimes you will have additional spaces after a sentence or a double space where there shouldn't be one. These are just formatting errors, but your model will be affected.\n",
    "\n",
    "Example:\n",
    "\n",
    "```\n",
    " This  is   some text where some spaces  have been added.  \n",
    "   Remove them! \n",
    "```\n",
    "\n",
    "In this text it would be easy to remove the spaces but you will not do it by hand for each documents!\n",
    "\n",
    "\n",
    "## Practice time!\n",
    "\n",
    "Remove all the double spaces and the single space at the start or end of the line."
   ]
  },
  {
   "cell_type": "code",
   "execution_count": null,
   "metadata": {},
   "outputs": [],
   "source": [
    "text = \" Lorem Ipsum is  simply dummy text  of the printing and typesetting industry. Lorem Ipsum has been  the industry's standard dummy text ever since the  1500s, when an unknown printer took a galley  of type and scrambled it to  make a type specimen  book. It has survived  not only five centuries, but  also the leap  into electronic typesetting ,  remaining essentially unchanged . It was popularised  in the 1960s with the release of Letraset sheets containing Lorem Ipsum passages, and more recently with desktop  publishing software like Aldus PageMaker including versions of Lorem Ipsum. \"\n",
    "\n",
    "\n",
    "# Remove all the useless spaces in 'text'\n",
    "\n",
    "\n",
    "\n",
    "\n",
    "\n"
   ]
  }
 ],
 "metadata": {
  "kernelspec": {
   "display_name": "Python 3",
   "language": "python",
   "name": "python3"
  },
  "language_info": {
   "codemirror_mode": {
    "name": "ipython"
   },
   "file_extension": ".py",
   "mimetype": "text/x-python",
   "name": "python",
   "nbconvert_exporter": "python"
  }
 },
 "nbformat": 4,
 "nbformat_minor": 2
}
