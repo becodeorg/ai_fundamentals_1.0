{
 "cells": [
  {
   "cell_type": "markdown",
   "metadata": {},
   "source": [
    "# The inheritance\n",
    "## Building a class from an already known one\n",
    "\n",
    "Inheritance is an object feature that allows you to declare that a particular class will itself be modeled on another class, called the parent class. In concrete terms, if a class \"b\" inherits from class \"a\", objects created from the model of class \"b\" will have access to the methods and attributes of class \"a\".\n",
    "\n",
    "Class \"b\" does not only use the methods and attributes of class \"a\": it will also be able to define others. Other methods and attributes that will be specific to it, in addition to the methods and attributes of class \"a\". And it will also be able to redefine the methods of the mother class.\n",
    "\n",
    "Example: A secret agent is a person with a specificity. We can therefore create a `SpecialAgent` class that inherits from the `Person` class. "
   ]
  },
  {
   "cell_type": "code",
   "execution_count": 6,
   "metadata": {},
   "outputs": [],
   "source": [
    "class Person:\n",
    "    \"\"\"Class representing one person\"\"\"\n",
    "    def __init__(self, lastname,firstname):\n",
    "        \"\"\"Constructor our class\"\"\"\n",
    "        self.lastname = lastname\n",
    "        self.firstname = firstname\n",
    "        \n",
    "    def __str__(self):\n",
    "        \"\"\"Method called during a conversion of the object into a chain\"\"\"\n",
    "        return f\"{self.firstname} {self.lastname}\"\n",
    "\n",
    "\n",
    "class SpecialAgent(Person):\n",
    "    \"\"\"\n",
    "    A class that defines a special agent.\n",
    "    \n",
    "    It inherits from the class Person.\n",
    "    \"\"\"\n",
    "    def __init__(self, name,firstname, matricule):\n",
    "        \"\"\"An agent is defined by his name and personnel number\"\"\"\n",
    "        # We explicitly call the Person constructor:\n",
    "        Person.__init__(self, name,firstname)\n",
    "        self.matricule = matricule\n",
    "\n",
    "    def __str__(self):\n",
    "        \"\"\"Method called during a conversion of the object into a chain\"\"\"\n",
    "        return f\"Agent {self.lastname}. {self.firstname} {self.lastname}, matricule {self.matricule}\""
   ]
  },
  {
   "cell_type": "code",
   "execution_count": 7,
   "metadata": {},
   "outputs": [
    {
     "name": "stdout",
     "output_type": "stream",
     "text": [
      "Agent Do. Lu Do, matricule 007\n"
     ]
    }
   ],
   "source": [
    "agent_007=SpecialAgent('Do','Lu','007')\n",
    "print(agent_007)"
   ]
  },
  {
   "cell_type": "markdown",
   "metadata": {},
   "source": [
    "- Inheritance allows one class to inherit another's behaviour by using its methods.\n",
    "\n",
    "- The syntax of the inheritance is `NewClass class (ParentClass):`.\n",
    "\n",
    "- The methods of the parent class can be accessed directly via the syntax: `ParentClass.method(self)`.\n",
    "\n",
    "- Multiple inheritance allows a class to inherit several parent classes.\n",
    "\n",
    "- The syntax of the multiple inheritance is therefore written as follows: `NewClass class (ParentClass1, ParentClass2, ParentClassN):`."
   ]
  },
  {
   "cell_type": "markdown",
   "metadata": {},
   "source": [
    "Another example : "
   ]
  },
  {
   "cell_type": "code",
   "execution_count": 8,
   "metadata": {},
   "outputs": [
    {
     "name": "stdout",
     "output_type": "stream",
     "text": [
      "I am Snoopy and I am 5 Old.\n"
     ]
    }
   ],
   "source": [
    "# Parent Class\n",
    "class Animal():\n",
    "    def __init__(self, name, age):\n",
    "        self.name = name\n",
    "        self.age = age \n",
    "    def speak(self):\n",
    "        print(f\"I am {self.name} and I am {self.age} Old.\")\n",
    "    \n",
    "# Child class\n",
    "class Dog(Animal):\n",
    "    def __init__(self, name, age):\n",
    "        self.name = name\n",
    "        self.age = age \n",
    "        self.type = \"dog\"\n",
    "\n",
    "# Call child class\n",
    "t = Dog(\"Snoopy\", 5)\n",
    "t.speak()"
   ]
  },
  {
   "cell_type": "markdown",
   "metadata": {},
   "source": [
    "### Super() function\n",
    "\n",
    "Python `super()` function allows us to refer the superclass implicitly. So, Python's `super()` function makes our task easier and comfortable. While referring to the superclass from the subclass, we don’t need to write the name of the superclass explicitly. In the following sections, we will discuss this function."
   ]
  },
  {
   "cell_type": "code",
   "execution_count": 9,
   "metadata": {},
   "outputs": [
    {
     "name": "stdout",
     "output_type": "stream",
     "text": [
      "I am Snoopy and I am 5 Old.\n"
     ]
    }
   ],
   "source": [
    "# Parent Class\n",
    "class Animal():\n",
    "    def __init__(self, name, age):\n",
    "        self.name = name\n",
    "        self.age = age\n",
    "    def speak(self):\n",
    "        print(f\"I am {self.name} and I am {self.age} Old.\")\n",
    "    \n",
    "# Child class\n",
    "class Dog(Animal):\n",
    "    def __init__(self, name, age):\n",
    "        super().__init__(name, age)\n",
    "        self.type = \"dog\"\n",
    "\n",
    "\n",
    "# Call child class\n",
    "t = Dog(\"Snoopy\", 5)\n",
    "t.speak()"
   ]
  },
  {
   "cell_type": "markdown",
   "metadata": {},
   "source": [
    "### Python super function with multilevel inheritance  \n",
    "As we have stated previously, the `super()` function allows us to refer to the superclass implicitly.\n",
    "\n",
    "But in the case of multi-level inheritances which class will it refer to? Well, `super()` will always refer to the immediate superclass.\n",
    "\n",
    "Also, the `super()` function can not only refer to the `__init__()` function but also can call all other functions of the superclass. So, in the following example, we will see that."
   ]
  },
  {
   "cell_type": "code",
   "execution_count": 10,
   "metadata": {},
   "outputs": [
    {
     "name": "stdout",
     "output_type": "stream",
     "text": [
      "Initializing: class C\n",
      "Initializing: class B\n",
      "Initializing: class A\n",
      "Printing from class C: 1\n",
      "Printing from class B: 2\n",
      "Printing from class A: 3\n"
     ]
    }
   ],
   "source": [
    "class A:\n",
    "    def __init__(self):\n",
    "        print('Initializing: class A')\n",
    "\n",
    "    def sub_method(self, b):\n",
    "        print('Printing from class A:', b)\n",
    "\n",
    "\n",
    "class B(A):\n",
    "    def __init__(self):\n",
    "        print('Initializing: class B')\n",
    "        super().__init__()\n",
    "\n",
    "    def sub_method(self, b):\n",
    "        print('Printing from class B:', b)\n",
    "        super().sub_method(b + 1)\n",
    "\n",
    "\n",
    "class C(B):\n",
    "    def __init__(self):\n",
    "        print('Initializing: class C')\n",
    "        super().__init__()\n",
    "\n",
    "    def sub_method(self, b):\n",
    "        print('Printing from class C:', b)\n",
    "        super().sub_method(b + 1)\n",
    "\n",
    "\n",
    "if __name__ == '__main__':\n",
    "    c = C()\n",
    "    c.sub_method(1)\n"
   ]
  },
  {
   "cell_type": "markdown",
   "metadata": {},
   "source": [
    "So, from the output we can clearly see that the `__init__()` function of class `C` had been called at first, then class `B` and after that class `A`. Similar thing happened by calling `sub_method()`."
   ]
  },
  {
   "cell_type": "markdown",
   "metadata": {},
   "source": [
    "### Why do we need Python super function\n",
    "If you have previous experience in Java language, then you should know that the base class is also called by a `super` object there. So, this concept is actually useful for coders. However, Python also keeps the ease of use for the programmer to use the name of the super class to refer them. And, if your program contains multi-level inheritance, then this `super()` function is helpful for you.\n",
    "\n",
    "Do we always call the original method implementation? In theory, a well designed API should make it always possible but we know that boundary cases exist: the original method may have side effects that you want to avoid and sometimes the API cannot be refactored to avoid them. In those cases you may prefer to skip the call to the original implementation of the method; Python does not make it mandatory, so feel free to walk that path if you think the situation requires it. Be sure to know what you are doing, however, and document why you are completely overwriting the method."
   ]
  },
  {
   "cell_type": "markdown",
   "metadata": {},
   "source": [
    "### Overriding method\n",
    "What is overriding? Overriding is the ability of a class to change the implementation of a method provided by one of its ancestors.\n",
    "\n",
    "Overriding is a very important part of OOP since it is the feature that makes inheritance exploit its full power. Through method overriding a class may \"copy\" another class, avoiding duplicated code, and at the same time enhance or customize part of it. Method overriding is thus a strict part of the inheritance mechanism."
   ]
  },
  {
   "cell_type": "code",
   "execution_count": 11,
   "metadata": {},
   "outputs": [
    {
     "name": "stdout",
     "output_type": "stream",
     "text": [
      "I am A Dog\n"
     ]
    }
   ],
   "source": [
    "# Parent Class\n",
    "class Animal():\n",
    "    def __init__(self, name, age):\n",
    "        self.name = name\n",
    "        self.age = age \n",
    "    def speak(self):\n",
    "        print(f\"I am {self.name} and I am {self.age} Old.\")\n",
    "    \n",
    "# Child class\n",
    "class Dog(Animal):\n",
    "    def __init__(self, name, age):\n",
    "        super().__init__(name,age)\n",
    "    \n",
    "     # This will override the speak() method of the parent class:\n",
    "    def speak(self):\n",
    "        print(\"I am A Dog\")\n",
    "\n",
    "# Call child class\n",
    "t = Dog(\"tyson\", 5)\n",
    "t.speak()\n",
    "    "
   ]
  },
  {
   "cell_type": "markdown",
   "metadata": {},
   "source": [
    "## Practice time!\n",
    "Great, let's pactice a bit. I defined here a class `Becodian` that contain 2 attributes: `name` and `is_staff_member`. Moreover, I defined `intruduce_becodian()` that returns information about the becodian.\n",
    "\n",
    "We would like to create a class `Learner` that inherits from `Becodian`. But we would also like to add an attribute `promotion` with the name of the learner's promotion. As we want to define multiple learners, it should be in the class' **constructors**. But we still need `name`and `is_staff_member` in the constuctor too. As all the learners are not staff member, `is_staff_member` should always be `False` and shouldn't be specified each time we create and instance of `Learner`.\n",
    "A perfect usecase for `super`!\n",
    "\n",
    "Then, create an `introduce_learner()` method that takes the ouput of `introduce_becodian()` and add ` From CAMPUS_NAME_HERE`. You can't touch the introduce_learner function."
   ]
  },
  {
   "cell_type": "code",
   "execution_count": 4,
   "metadata": {},
   "outputs": [
    {
     "name": "stdout",
     "output_type": "stream",
     "text": [
      "ludo is a staff member!\n"
     ]
    }
   ],
   "source": [
    "class Becodian:\n",
    "    \"\"\"\n",
    "    Class that defines a person who is part of Becode.\n",
    "    \"\"\"\n",
    "    def __init__(self, name, is_staff_member):\n",
    "        self.name = name\n",
    "        self.is_staff_member = is_staff_member\n",
    "    \n",
    "    def introduce_becodian(self):\n",
    "        if self.is_staff_member:\n",
    "            return f\"{self.name} is a staff member!\"\n",
    "        else:\n",
    "            return f\"{self.name} is a learner!\"\n",
    "\n",
    "\n",
    "# We create a new Becodian called ludo who is a staff member. \n",
    "ludo = Becodian('ludo', True)\n",
    "\n",
    "# We print the ouput of introduce_becodian for ludo\n",
    "print(ludo.introduce_becodian())"
   ]
  },
  {
   "cell_type": "code",
   "execution_count": 30,
   "metadata": {},
   "outputs": [],
   "source": [
    "# Create you Learner class here!\n",
    "\n",
    "\n"
   ]
  },
  {
   "cell_type": "code",
   "execution_count": 31,
   "metadata": {},
   "outputs": [
    {
     "name": "stdout",
     "output_type": "stream",
     "text": [
      "Jeremy is a learner! From Bouman 1\n"
     ]
    }
   ],
   "source": [
    "# This cell should print \"Jeremy is a learner! From Bouman 1\"\n",
    "jeremy = Learner('Jeremy', 'Bouman 1')\n",
    "\n",
    "print(jeremy.introduce_learner())"
   ]
  },
  {
   "cell_type": "code",
   "execution_count": 32,
   "metadata": {},
   "outputs": [
    {
     "name": "stdout",
     "output_type": "stream",
     "text": [
      "Giuliano is a learner! From Bouman 1\n"
     ]
    }
   ],
   "source": [
    "# This cell should print \"Giuliano is a learner! From Bouman 1\"\n",
    "giuliano = Learner('Giuliano', 'Bouman 1')\n",
    "\n",
    "print(giuliano.introduce_learner())"
   ]
  },
  {
   "cell_type": "code",
   "execution_count": 33,
   "metadata": {},
   "outputs": [
    {
     "name": "stdout",
     "output_type": "stream",
     "text": [
      "Mathieu is a learner! From Bouman 1\n"
     ]
    }
   ],
   "source": [
    "# This cell should print \"Mathieu is a learner! From Bouman 1\"\n",
    "mathieu = Learner('Mathieu', 'Bouman 1')\n",
    "\n",
    "print(mathieu.introduce_learner())"
   ]
  },
  {
   "cell_type": "code",
   "execution_count": 34,
   "metadata": {},
   "outputs": [
    {
     "name": "stdout",
     "output_type": "stream",
     "text": [
      "Geoffrey is a learner! From Bouman 1\n"
     ]
    }
   ],
   "source": [
    "# This cell should print \"Geoffrey is a learner! From Bouman 1\"\n",
    "geoffrey = Learner('Geoffrey', 'Bouman 1')\n",
    "\n",
    "print(geoffrey.introduce_learner())"
   ]
  },
  {
   "cell_type": "code",
   "execution_count": 36,
   "metadata": {},
   "outputs": [
    {
     "name": "stdout",
     "output_type": "stream",
     "text": [
      "Adrien is a learner! From Wood 1\n"
     ]
    }
   ],
   "source": [
    "# This cell should print \"Mathieu is a learner! From Wood 1\"\n",
    "adrien = Learner('Adrien', 'Wood 1')\n",
    "\n",
    "print(adrien.introduce_learner())"
   ]
  }
 ],
 "metadata": {
  "kernelspec": {
   "display_name": "Python 3",
   "language": "python",
   "name": "python3"
  },
  "language_info": {
   "codemirror_mode": {
    "name": "ipython",
    "version": 3
   },
   "file_extension": ".py",
   "mimetype": "text/x-python",
   "name": "python",
   "nbconvert_exporter": "python",
   "pygments_lexer": "ipython3",
   "version": "3.8.5"
  }
 },
 "nbformat": 4,
 "nbformat_minor": 2
}
