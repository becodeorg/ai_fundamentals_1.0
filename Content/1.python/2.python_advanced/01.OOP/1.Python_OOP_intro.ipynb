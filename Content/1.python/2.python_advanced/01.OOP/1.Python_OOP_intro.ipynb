{
 "cells": [
  {
   "cell_type": "markdown",
   "metadata": {},
   "source": [
    "# Introduction to object-oriented programming in python"
   ]
  },
  {
   "cell_type": "markdown",
   "metadata": {},
   "source": [
    "An object has a type which can be 'str' for a string, 'float' for a float integer or 'int' for a real number.\n",
    "\n",
    "For example, below are numerical types and iterable object types."
   ]
  },
  {
   "cell_type": "code",
   "execution_count": 6,
   "metadata": {},
   "outputs": [
    {
     "data": {
      "text/plain": [
       "(int, float, str, list, tuple, dict)"
      ]
     },
     "execution_count": 6,
     "metadata": {},
     "output_type": "execute_result"
    }
   ],
   "source": [
    "type(3),type(3.),type('azerty'),type([1,2,3]),type((3,4,'GGFD')),type({'boire':'avaler un liquide'})"
   ]
  },
  {
   "cell_type": "markdown",
   "metadata": {},
   "source": [
    "Or other object types"
   ]
  },
  {
   "cell_type": "code",
   "execution_count": 7,
   "metadata": {},
   "outputs": [
    {
     "data": {
      "text/plain": [
       "(type, NoneType, bool)"
      ]
     },
     "execution_count": 7,
     "metadata": {},
     "output_type": "execute_result"
    }
   ],
   "source": [
    "type(type),type(None),type(True)"
   ]
  },
  {
   "cell_type": "markdown",
   "metadata": {},
   "source": [
    "In practice, objects are variables that can themselves contain functions and variables.  The \"functions contained in our objects\" are called methods."
   ]
  },
  {
   "cell_type": "markdown",
   "metadata": {},
   "source": [
    "So far, we have only seen one technical aspect of the object. I would even say that what we have seen so far is only a \"slightly more aesthetic\" way of encoding: it is simpler and more understandable to write `my_list.append(5)` than `append_to_list(ma_liste, 5)` where `append_to_list()` would be a function that would add an element (5) at the end of the list (`ma_liste`).\n",
    "\n",
    "\n",
    "But behind Object-Oriented Programming, there is not only an aesthetic concern, far from it."
   ]
  },
  {
   "cell_type": "markdown",
   "metadata": {},
   "source": [
    "`append` is therefore a method of the list class object of which `ma_liste` is a part"
   ]
  },
  {
   "cell_type": "markdown",
   "metadata": {},
   "source": [
    "A class is a bit like a model according to which we will create objects. It is in the class that we will define our methods and attributes, the attributes being variables contained in our object.\n",
    "\n",
    "### Methods are functions defined in a class.\n"
   ]
  },
  {
   "cell_type": "markdown",
   "metadata": {},
   "source": [
    "### Example\n",
    "\n",
    "A class defines attributes and methods. \n",
    "\n",
    "For example, imagine a `Car` class that will be used to create objects that are cars. \n",
    "This class will be able to define a color attribute, a speed attribute, etc. These attributes correspond to properties that can exist for a car. \n",
    "\n",
    "The `Car` class can also define a `rolling()` method. A method, in a way, corresponds to an action, here the action of driving can be performed by a car. \n",
    "\n",
    "If we imagine an `Aircraft` class, it will be able to define a `fly()` method. It will also be able to define a `rolling()` method. \n",
    "\n",
    "On the other hand, the `Car` class will not have a `steal()` method because a car cannot steal. Similarly, the `Aircraft` class may have an altitude attribute but this will not be the case for the `Car` class."
   ]
  },
  {
   "cell_type": "markdown",
   "metadata": {},
   "source": [
    "### Let's create a car class:"
   ]
  },
  {
   "cell_type": "markdown",
   "metadata": {},
   "source": [
    "Our Car Class is a kind of factory that creates cars.\n",
    "\n",
    "The ``__init__()`` method is called when creating an object. This is a special method, called a constructor, that is invariably called when you want to create an object from your class.\n",
    "\n",
    "In concrete terms, a constructor is a method of our object that is responsible for creating our attributes. In truth, it is even the method that will be called when we want to create our object."
   ]
  },
  {
   "cell_type": "code",
   "execution_count": 39,
   "metadata": {},
   "outputs": [],
   "source": [
    "class Car:\n",
    "    def __init__(self):\n",
    "        self.name = \"Ferrari\""
   ]
  },
  {
   "cell_type": "markdown",
   "metadata": {},
   "source": [
    "In our class, we find the instantiation of our name attribute. We create a variable `name` and give it as value `\"Ferrari\"`.\n",
    "\n",
    "\n",
    "An object is an instance of a class. You can create as many objects as you want with a class.\n",
    "\n",
    "Now let's create our car:"
   ]
  },
  {
   "cell_type": "code",
   "execution_count": 40,
   "metadata": {},
   "outputs": [],
   "source": [
    "# bombo is the name of my class instance\n",
    "bombo=Car()"
   ]
  },
  {
   "cell_type": "code",
   "execution_count": 41,
   "metadata": {},
   "outputs": [
    {
     "data": {
      "text/plain": [
       "__main__.Car"
      ]
     },
     "execution_count": 41,
     "metadata": {},
     "output_type": "execute_result"
    }
   ],
   "source": [
    "# A car class object\n",
    "type(bombo)"
   ]
  },
  {
   "cell_type": "code",
   "execution_count": 42,
   "metadata": {},
   "outputs": [
    {
     "data": {
      "text/plain": [
       "'Ferrari'"
      ]
     },
     "execution_count": 42,
     "metadata": {},
     "output_type": "execute_result"
    }
   ],
   "source": [
    "bombo.name"
   ]
  },
  {
   "cell_type": "code",
   "execution_count": 43,
   "metadata": {},
   "outputs": [],
   "source": [
    "# You can create an attribute for your object at any time:\n",
    "bombo.model = \"250\""
   ]
  },
  {
   "cell_type": "code",
   "execution_count": 44,
   "metadata": {},
   "outputs": [
    {
     "data": {
      "text/plain": [
       "'250'"
      ]
     },
     "execution_count": 44,
     "metadata": {},
     "output_type": "execute_result"
    }
   ],
   "source": [
    "bombo.model"
   ]
  },
  {
   "cell_type": "markdown",
   "metadata": {},
   "source": [
    "\n",
    "### Let's create a new Person class "
   ]
  },
  {
   "cell_type": "markdown",
   "metadata": {},
   "source": [
    "We still have to make a slightly smarter manufacturer. For the moment, whatever the object created, it has the same name, \n",
    "\n",
    "Let's create this time, a person class with name, first name, age and place of residence. You can change them later, of course, but you can also make the constructor ``(__init__(self))`` take several parameters, let's say... the name and the first name, to start with."
   ]
  },
  {
   "cell_type": "code",
   "execution_count": 45,
   "metadata": {},
   "outputs": [],
   "source": [
    "class Person:\n",
    "    \"\"\" Class defining a person characterized by :\n",
    "    - his name\n",
    "    - his first name\n",
    "    - his age\n",
    "    - his place of residence\"\"\"\n",
    "    \n",
    "    def __init__(self, name, firstname):\n",
    "        \"\"\"Constructor our class\"\"\"\n",
    "        self.name = name\n",
    "        self.firstname = firstname\n",
    "        self.age = 34\n",
    "        self.place_residence = \"Brussels\""
   ]
  },
  {
   "cell_type": "code",
   "execution_count": 46,
   "metadata": {},
   "outputs": [
    {
     "name": "stdout",
     "output_type": "stream",
     "text": [
      "<__main__.Person object at 0x7f345eebe370>\n"
     ]
    }
   ],
   "source": [
    "coach=Person('Patho','Ludovic')\n",
    "print(coach)"
   ]
  },
  {
   "cell_type": "markdown",
   "metadata": {},
   "source": [
    "Let's look at it in detail:\n",
    "\n",
    "First, the definition of the class. It consists of the keyword `class`, the name of the class and the two ritual points \":\".\n",
    "\n",
    "The definition of our manufacturer. As you can see, this is an almost \"classic\" definition of a function. Its name is `__init__`, it is invariable: in Python, all manufacturers are called that way. Method names surrounded on either side by two underlined signs (`__nameMethod__` for example) are special methods. Note that, in our method definition, we pass a first parameter called `self`.\n",
    "\n",
    "Remember that the first parameter must be `self`. Apart from that, a constructor is a rather classic function: you can define parameters, by default or not, named or not. When you want to create your object, you will call the name of the class by passing in brackets the parameters to use."
   ]
  },
  {
   "cell_type": "code",
   "execution_count": 47,
   "metadata": {},
   "outputs": [
    {
     "data": {
      "text/plain": [
       "('Patho', 'Ludovic', 34, 'Brussels')"
      ]
     },
     "execution_count": 47,
     "metadata": {},
     "output_type": "execute_result"
    }
   ],
   "source": [
    "coach.name,coach.firstname, coach.age,coach.place_residence"
   ]
  },
  {
   "cell_type": "code",
   "execution_count": 48,
   "metadata": {},
   "outputs": [
    {
     "ename": "AttributeError",
     "evalue": "'Person' object has no attribute 'birthday'",
     "output_type": "error",
     "traceback": [
      "\u001b[0;31m---------------------------------------------------------------------------\u001b[0m",
      "\u001b[0;31mAttributeError\u001b[0m                            Traceback (most recent call last)",
      "\u001b[0;32m<ipython-input-48-a1d178f60df3>\u001b[0m in \u001b[0;36m<module>\u001b[0;34m\u001b[0m\n\u001b[1;32m      1\u001b[0m \u001b[0;31m# His birthday? => 24/06/1984 // Don't forget to wish me Happy Birthday that day :)\u001b[0m\u001b[0;34m\u001b[0m\u001b[0;34m\u001b[0m\u001b[0;34m\u001b[0m\u001b[0m\n\u001b[0;32m----> 2\u001b[0;31m \u001b[0mcoach\u001b[0m\u001b[0;34m.\u001b[0m\u001b[0mbirthday\u001b[0m\u001b[0;34m\u001b[0m\u001b[0;34m\u001b[0m\u001b[0m\n\u001b[0m",
      "\u001b[0;31mAttributeError\u001b[0m: 'Person' object has no attribute 'birthday'"
     ]
    }
   ],
   "source": [
    "# His birthday? => 24/06/1984 // Don't forget to wish me Happy Birthday that day :)\n",
    "coach.birthday"
   ]
  },
  {
   "cell_type": "markdown",
   "metadata": {},
   "source": [
    "Create a new attribute, birthday, for this object"
   ]
  },
  {
   "cell_type": "code",
   "execution_count": null,
   "metadata": {
    "collapsed": true
   },
   "outputs": [],
   "source": [
    "coach.birthday"
   ]
  },
  {
   "cell_type": "markdown",
   "metadata": {},
   "source": [
    "#### Class attributes\n",
    "In the examples we have seen so far, our attributes are contained in our object. They are specific to the object: if you create several objects, the attributes name, first name,... of each one will not necessarily be identical from one object to another. But we can also define attributes in our class. "
   ]
  },
  {
   "cell_type": "code",
   "execution_count": 49,
   "metadata": {},
   "outputs": [],
   "source": [
    "class Counter:\n",
    "    \"\"\"This class has a class attribute that is incremented at each\n",
    "    time you create an object of this type\"\"\"\n",
    "\n",
    "    \n",
    "    objects_created = 0 # The counter is 0 at the start\n",
    "    def __init__(self):\n",
    "        \"\"\"Each time we create an object, we increment the counte\"\"\"\n",
    "        Counter.objects_created = Counter.objects_created + 1"
   ]
  },
  {
   "cell_type": "markdown",
   "metadata": {},
   "source": [
    "We define our class attribute directly in the body of the class, before the definition of the constructor. \n",
    "\n",
    "When you want to call it in the constructor, you prefix the name of the class attribute with the name of the class. \n",
    "\n",
    "And it is also accessed in this way, outside the class. See instead:"
   ]
  },
  {
   "cell_type": "code",
   "execution_count": 50,
   "metadata": {},
   "outputs": [
    {
     "data": {
      "text/plain": [
       "0"
      ]
     },
     "execution_count": 50,
     "metadata": {},
     "output_type": "execute_result"
    }
   ],
   "source": [
    "Counter.objects_created"
   ]
  },
  {
   "cell_type": "code",
   "execution_count": 51,
   "metadata": {},
   "outputs": [
    {
     "name": "stdout",
     "output_type": "stream",
     "text": [
      "1\n"
     ]
    }
   ],
   "source": [
    "# Create a first object\n",
    "a=Counter()\n",
    "# Let's check that the counter has been incremented correctly\n",
    "print(Counter.objects_created)"
   ]
  },
  {
   "cell_type": "code",
   "execution_count": 52,
   "metadata": {},
   "outputs": [
    {
     "name": "stdout",
     "output_type": "stream",
     "text": [
      "2\n"
     ]
    }
   ],
   "source": [
    "b=Counter()\n",
    "print(b.objects_created)"
   ]
  },
  {
   "cell_type": "markdown",
   "metadata": {},
   "source": [
    "Each time we create a `Counter` object, the class attribute `objects_created` is incremented by 1. It can be useful to have class attributes, when all our objects must have some identical data."
   ]
  },
  {
   "cell_type": "markdown",
   "metadata": {},
   "source": [
    "### Method"
   ]
  },
  {
   "cell_type": "markdown",
   "metadata": {},
   "source": [
    "Attributes are variables specific to our object, which are used to characterize it. The methods are rather actions, as we saw in the previous part, acting on the object. For example, the append method of the list class allows to add an element to the manipulated list object."
   ]
  },
  {
   "cell_type": "markdown",
   "metadata": {},
   "source": [
    "Let's create a `Table` class. Our table will have a surface (an attribute) on which we can write, read and delete. \n",
    "\n",
    "Create our `Blackboard` class and our `surface` attribute."
   ]
  },
  {
   "cell_type": "code",
   "execution_count": 53,
   "metadata": {},
   "outputs": [],
   "source": [
    "class Blackboard:\n",
    "    \"\"\" Class defining a surface on which to write,\n",
    "    that can be read and deleted, by a set of methods. The modified attribute\n",
    "    is \"surface\" \"\"\"\n",
    "\n",
    "    \n",
    "    def __init__(self):\n",
    "        \"\"\"By default, our surface is empty\"\"\"\n",
    "        self.surface = \"\""
   ]
  },
  {
   "cell_type": "markdown",
   "metadata": {},
   "source": [
    "We have already created a method, so you should not be too surprised by the syntax we will see. Our constructor is indeed a method, it keeps the syntax. So we will write our method write to start."
   ]
  },
  {
   "cell_type": "code",
   "execution_count": 54,
   "metadata": {},
   "outputs": [],
   "source": [
    "class Blackboard:\n",
    "    \"\"\" Class defining a surface on which to write,\n",
    "    that can be read and deleted, by a set of methods. The modified attribute\n",
    "    is \"surface\" \"\"\"\n",
    "    \n",
    "    def __init__(self):\n",
    "        \"\"\"By default, our surface is empty\"\"\"\n",
    "        self.surface = \"\"\n",
    "        \n",
    "    def write(self, message_written):\n",
    "        \"\"\" Method for writing on the surface of the table.\n",
    "        If the surface is not empty, we skip a line before adding\n",
    "        the message to be written\"\"\"\n",
    "        \n",
    "        if self.surface:\n",
    "            self.surface += '\\n'\n",
    "        self.surface += message_written"
   ]
  },
  {
   "cell_type": "code",
   "execution_count": 55,
   "metadata": {},
   "outputs": [
    {
     "name": "stdout",
     "output_type": "stream",
     "text": [
      "\n"
     ]
    }
   ],
   "source": [
    "tab =  Blackboard()\n",
    "# Check if blackboard is empty\n",
    "print(tab.surface)"
   ]
  },
  {
   "cell_type": "code",
   "execution_count": 56,
   "metadata": {},
   "outputs": [
    {
     "name": "stdout",
     "output_type": "stream",
     "text": [
      "Coooool ! I love this one\n"
     ]
    }
   ],
   "source": [
    "tab.write(\"Coooool ! I love this one\")\n",
    "# It is good ?\n",
    "print(tab.surface)"
   ]
  },
  {
   "cell_type": "code",
   "execution_count": 57,
   "metadata": {},
   "outputs": [
    {
     "name": "stdout",
     "output_type": "stream",
     "text": [
      "Coooool ! I love this one\n",
      "Have a good start to the school year!\n"
     ]
    }
   ],
   "source": [
    "tab.write(\"Have a good start to the school year!\")\n",
    "print(tab.surface)"
   ]
  },
  {
   "cell_type": "markdown",
   "metadata": {},
   "source": [
    "when you create a new object, here a blackboard, the attributes of the object are specific to the created object. \n",
    "- This makes sense: if you create several blackboards, they will not all have the same surface area. So the attributes are contained in the object.\n",
    "\n",
    "On the other hand, the methods are contained in the class that defines our object. \n",
    "- This is very important. When you type `tab.write(...)`, Python will look for the `write` method not in the tab object, but in the `Blackboard` class. When you type `tab.write(...)`, it is the same as if you write `Blackboard.write(tab, ...)`."
   ]
  },
  {
   "cell_type": "code",
   "execution_count": 58,
   "metadata": {},
   "outputs": [],
   "source": [
    "tab.write('Hello Swartz')\n",
    "Blackboard.write(tab,'Hello Turing')"
   ]
  },
  {
   "cell_type": "code",
   "execution_count": 59,
   "metadata": {},
   "outputs": [
    {
     "name": "stdout",
     "output_type": "stream",
     "text": [
      "Coooool ! I love this one\n",
      "Have a good start to the school year!\n",
      "Hello Swartz\n",
      "Hello Turing\n"
     ]
    }
   ],
   "source": [
    "print(tab.surface)"
   ]
  },
  {
   "cell_type": "code",
   "execution_count": 60,
   "metadata": {},
   "outputs": [
    {
     "name": "stdout",
     "output_type": "stream",
     "text": [
      "Help on function write in module __main__:\n",
      "\n",
      "write(self, message_written)\n",
      "    Method for writing on the surface of the table.\n",
      "    If the surface is not empty, we skip a line before adding\n",
      "    the message to be written\n",
      "\n"
     ]
    }
   ],
   "source": [
    "# And yes, the help comes from reading the body of the associated class\n",
    "help(Blackboard.write)"
   ]
  },
  {
   "cell_type": "code",
   "execution_count": 61,
   "metadata": {},
   "outputs": [
    {
     "name": "stdout",
     "output_type": "stream",
     "text": [
      "Coooool ! I love this one\n",
      "Have a good start to the school year!\n",
      "Hello Swartz\n",
      "Hello Turing\n",
      "try\n"
     ]
    }
   ],
   "source": [
    "Blackboard.write(tab, \"try\")\n",
    "print(tab.surface)"
   ]
  },
  {
   "cell_type": "markdown",
   "metadata": {},
   "source": [
    "As you can see,  \n",
    "- Your `self` parameter is the object that calls the method. For this reason, you modify the surface of the object by calling `self.surface`.\n",
    "- To summarize, when you have to work in a method of the object on the object itself, you will go through self."
   ]
  },
  {
   "cell_type": "markdown",
   "metadata": {},
   "source": [
    "We still have to code to read who will display our surface, who will delete the content of our surface.\n",
    "\n",
    "Write these two methods; one that displays the contents of the table and the other that resets it to zero or `\"\"`"
   ]
  },
  {
   "cell_type": "code",
   "execution_count": 62,
   "metadata": {},
   "outputs": [],
   "source": [
    "class Blackboard:\n",
    "    \"\"\" Class defining a surface on which to write,\n",
    "    that can be read and deleted, by a set of methods. The modified attribute\n",
    "    is \"surface\" \"\"\"\n",
    "    \n",
    "    def __init__(self):\n",
    "        \"\"\"By default, our surface is empty\"\"\"\n",
    "        self.surface = \"\"\n",
    "        \n",
    "    def write(self, message_written):\n",
    "        \"\"\" Method for writing on the surface of the table.\n",
    "        If the surface is not empty, we skip a line before adding\n",
    "        the message to be written\"\"\"\n",
    "        \n",
    "        if self.surface != \"\":\n",
    "            self.surface += '\\n'\n",
    "        self.surface += message_written\n",
    "        \n",
    "    def read(self):\n",
    "        \"\"\"This method is in charge of displaying, thanks to print,\n",
    "        the surface of the painting\"\"\"\n",
    "        # to be completed\n",
    "        \n",
    "    def reset(self):\n",
    "        \"\"\"This method allows you to erase the surface of the table\"\"\"\n",
    "        # to be completed\n",
    "        "
   ]
  },
  {
   "cell_type": "code",
   "execution_count": 63,
   "metadata": {},
   "outputs": [],
   "source": [
    "tab = Blackboard()\n",
    "tab.read()"
   ]
  },
  {
   "cell_type": "code",
   "execution_count": 64,
   "metadata": {},
   "outputs": [],
   "source": [
    "tab.write(\"Hello everyone\")\n",
    "tab.write(\"Are you all right?\")\n",
    "tab.read()"
   ]
  },
  {
   "cell_type": "code",
   "execution_count": 65,
   "metadata": {},
   "outputs": [],
   "source": [
    "tab.reset()\n",
    "tab.read()"
   ]
  },
  {
   "cell_type": "code",
   "execution_count": 66,
   "metadata": {},
   "outputs": [
    {
     "name": "stdout",
     "output_type": "stream",
     "text": [
      "Help on class Blackboard in module __main__:\n",
      "\n",
      "class Blackboard(builtins.object)\n",
      " |  Class defining a surface on which to write,\n",
      " |  that can be read and deleted, by a set of methods. The modified attribute\n",
      " |  is \"surface\"\n",
      " |  \n",
      " |  Methods defined here:\n",
      " |  \n",
      " |  __init__(self)\n",
      " |      By default, our surface is empty\n",
      " |  \n",
      " |  read(self)\n",
      " |      This method is in charge of displaying, thanks to print,\n",
      " |      the surface of the painting\n",
      " |  \n",
      " |  reset(self)\n",
      " |      This method allows you to erase the surface of the table\n",
      " |  \n",
      " |  write(self, message_written)\n",
      " |      Method for writing on the surface of the table.\n",
      " |      If the surface is not empty, we skip a line before adding\n",
      " |      the message to be written\n",
      " |  \n",
      " |  ----------------------------------------------------------------------\n",
      " |  Data descriptors defined here:\n",
      " |  \n",
      " |  __dict__\n",
      " |      dictionary for instance variables (if defined)\n",
      " |  \n",
      " |  __weakref__\n",
      " |      list of weak references to the object (if defined)\n",
      "\n"
     ]
    }
   ],
   "source": [
    "# It's worth the effort to get a good commentary on his classes, isn't it?\n",
    "help(Blackboard)"
   ]
  },
  {
   "cell_type": "markdown",
   "metadata": {},
   "source": [
    "### Remember associated attributes / methods\n",
    "\n",
    "The dir function returns a list containing the names of the attributes and methods of the object that is passed to it as a parameter. You can notice that everything is mixed, it's normal: for Python, methods, functions, classes, modules are objects. The first difference between a variable and a function is that a function is executable (callable). The dir function simply returns everything in the object, without distinction."
   ]
  },
  {
   "cell_type": "code",
   "execution_count": 67,
   "metadata": {},
   "outputs": [
    {
     "data": {
      "text/plain": [
       "['__class__',\n",
       " '__delattr__',\n",
       " '__dict__',\n",
       " '__dir__',\n",
       " '__doc__',\n",
       " '__eq__',\n",
       " '__format__',\n",
       " '__ge__',\n",
       " '__getattribute__',\n",
       " '__gt__',\n",
       " '__hash__',\n",
       " '__init__',\n",
       " '__init_subclass__',\n",
       " '__le__',\n",
       " '__lt__',\n",
       " '__module__',\n",
       " '__ne__',\n",
       " '__new__',\n",
       " '__reduce__',\n",
       " '__reduce_ex__',\n",
       " '__repr__',\n",
       " '__setattr__',\n",
       " '__sizeof__',\n",
       " '__str__',\n",
       " '__subclasshook__',\n",
       " '__weakref__',\n",
       " 'read',\n",
       " 'reset',\n",
       " 'write']"
      ]
     },
     "execution_count": 67,
     "metadata": {},
     "output_type": "execute_result"
    }
   ],
   "source": [
    "dir(Blackboard)"
   ]
  },
  {
   "cell_type": "markdown",
   "metadata": {},
   "source": [
    "By default, when you develop a class, all objects built from that class will have a special attribute __dict__. This attribute is a dictionary that contains as keys the names of the attributes and, as values, the values of the attributes."
   ]
  },
  {
   "cell_type": "code",
   "execution_count": 68,
   "metadata": {},
   "outputs": [
    {
     "data": {
      "text/plain": [
       "mappingproxy({'__module__': '__main__',\n",
       "              '__doc__': ' Class defining a surface on which to write,\\n    that can be read and deleted, by a set of methods. The modified attribute\\n    is \"surface\" ',\n",
       "              '__init__': <function __main__.Blackboard.__init__(self)>,\n",
       "              'write': <function __main__.Blackboard.write(self, message_written)>,\n",
       "              'read': <function __main__.Blackboard.read(self)>,\n",
       "              'reset': <function __main__.Blackboard.reset(self)>,\n",
       "              '__dict__': <attribute '__dict__' of 'Blackboard' objects>,\n",
       "              '__weakref__': <attribute '__weakref__' of 'Blackboard' objects>})"
      ]
     },
     "execution_count": 68,
     "metadata": {},
     "output_type": "execute_result"
    }
   ],
   "source": [
    "Blackboard.__dict__"
   ]
  },
  {
   "cell_type": "markdown",
   "metadata": {},
   "source": [
    "### In summary\n",
    "- A class is defined by following the syntaxe `class ClassName`:.\n",
    "- Methods are defined as functions, except that they are found in the body of the class.\n",
    "- Instance methods take as first parameter `self`, which is the instance of the manipulated object.\n",
    "- We build a class instance by calling its constructor, an instance method called `__init__`.\n",
    "- The attributes of an instance are defined in the constructor of its class, following this syntax: `self.name_attribute_name = value`.\n",
    "- All methods that start and end with double underscores like `__str__` are methods common to (almost) all classes."
   ]
  },
  {
   "cell_type": "code",
   "execution_count": null,
   "metadata": {},
   "outputs": [],
   "source": []
  }
 ],
 "metadata": {
  "kernelspec": {
   "display_name": "Python 3",
   "language": "python",
   "name": "python3"
  },
  "language_info": {
   "codemirror_mode": {
    "name": "ipython",
    "version": 3
   },
   "file_extension": ".py",
   "mimetype": "text/x-python",
   "name": "python",
   "nbconvert_exporter": "python",
   "pygments_lexer": "ipython3",
   "version": "3.8.5"
  }
 },
 "nbformat": 4,
 "nbformat_minor": 2
}
