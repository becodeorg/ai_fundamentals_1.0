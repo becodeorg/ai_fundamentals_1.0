{
 "cells": [
  {
   "cell_type": "markdown",
   "metadata": {},
   "source": [
    "# Good practices\n",
    "\n",
    "In python as in other languages, there are conventions on how to write code. You don't have to respect all of them, but some of them have become unanimously used. Let's see together a summary of the most important rules.\n",
    "\n",
    "## PEP8 in summary !\n",
    "\n",
    "PEP 8 (for Python Extension Proposal) is a set of rules that allows to homogenize the code and to apply good practices. The best known example is the war between developers over whether to indent code with spaces or tabs. The PEP 8 is the winner: it is the spaces that win, 4 in number. End of the debate.\n",
    "\n",
    "This is a very interesting logic for Python, which aims to be a language \"that can be read\" rather than \"a language that can be written\". So yes, this sentence doesn't mean anything but writing code understandable for a machine is rather easy, but writing code understandable by the greatest number of coders (of any level) is a different story...\n",
    "\n",
    "PEP 8 provides rules and conventions to make the coder's reading easier and thus make him less stressed and more productive. The advantage of PEP 8 is that it makes the code more attractive. So I still don't know if the code is embellished with PEP 8 or if the fact of introducing rules doesn't make the code without PEP 8 ugly. You can tell from reading a script that the author hasn't followed these basic rules and therefore is not a good coder. This is not necessarily the case but...\n",
    "\n",
    "### Indentation\n",
    "The indentation in your code must be 4 characters. The more is too much, the less is not enough. On the coffeescript side for example it's 2, it's ugly. Shame on them. It had to be written somewhere, it's done."
   ]
  },
  {
   "cell_type": "markdown",
   "metadata": {},
   "source": [
    "👌 Good :"
   ]
  },
  {
   "cell_type": "code",
   "execution_count": 12,
   "metadata": {},
   "outputs": [],
   "source": [
    "def indent():\n",
    "    my_var = \"Use 4 characters for indent\""
   ]
  },
  {
   "cell_type": "markdown",
   "metadata": {},
   "source": [
    "❌ Bad :"
   ]
  },
  {
   "cell_type": "code",
   "execution_count": 13,
   "metadata": {},
   "outputs": [],
   "source": [
    "def indent():\n",
    "  my_var = \"Use 4 characters for indent\""
   ]
  },
  {
   "cell_type": "markdown",
   "metadata": {},
   "source": [
    "### Code layout\n",
    "79 characters per line, no more.\n",
    "\n",
    "Writing in python is like writing a kind of poem in alexandrine. There is the content but also the form. If you're a perfectionist, review your code, even for a single overflow; it won't change anything in the execution of your code, it will only waste your time,\n",
    "but passion is passion, rules are rules."
   ]
  },
  {
   "cell_type": "markdown",
   "metadata": {},
   "source": [
    "👌 Good :"
   ]
  },
  {
   "cell_type": "code",
   "execution_count": 19,
   "metadata": {},
   "outputs": [],
   "source": [
    "def my_function(context, width, height, size=10000, \n",
    "                color='black', emphasis=None, highlight=0):\n",
    "    pass"
   ]
  },
  {
   "cell_type": "markdown",
   "metadata": {},
   "source": [
    "❌ Bad :"
   ]
  },
  {
   "cell_type": "code",
   "execution_count": 20,
   "metadata": {},
   "outputs": [],
   "source": [
    "def my_function(context, width, height, size=10000, color='black', emphasis=None, highlight=0):\n",
    "    pass"
   ]
  },
  {
   "cell_type": "markdown",
   "metadata": {},
   "source": [
    "### Import\n",
    "Imports are declared at the beginning of the script. Seems obvious, but it's always nice to remember it. You can add some in a function too (if you can't do otherwise or for exceptional reasons) but after the docstring. Allow one line per import. Separate imports. First you have to put the modules that are internal to Python. Then you have to import the third party libraries like pandas, matplotlib, etc. . Then you import your own modules. Each part of the modules must be separated by a line that spaces them."
   ]
  },
  {
   "cell_type": "markdown",
   "metadata": {},
   "source": [
    "👌 Good :  \n",
    "```python\n",
    "import os  # STD lib imports first\n",
    "import sys  # alphabetical\n",
    "\n",
    "import some_third_party_lib  # 3rd party stuff next\n",
    "import some_third_party_other_lib  # alphabetical\n",
    "\n",
    "import local_stuff  # local stuff last\n",
    "import more_local_stuff\n",
    "```"
   ]
  },
  {
   "cell_type": "markdown",
   "metadata": {},
   "source": [
    "❌ Bad :  \n",
    "```python\n",
    "import local_stuff, more_local_stuff, dont_import_two, modules_in_one_line  # IMPORTANT!\n",
    "import os, sys\n",
    "import some_third_party_lib\n",
    "```"
   ]
  },
  {
   "cell_type": "markdown",
   "metadata": {},
   "source": [
    "### Spaces\n",
    "Operators must be surrounded by spaces.\n",
    "\n",
    "The following should be done :"
   ]
  },
  {
   "cell_type": "markdown",
   "metadata": {},
   "source": [
    "👌 Good :\n",
    "```python\n",
    "name = 'Batman'\n",
    "color == 'black'\n",
    "1 + 2\n",
    "```"
   ]
  },
  {
   "cell_type": "markdown",
   "metadata": {},
   "source": [
    "❌ Bad :  \n",
    "```python\n",
    "name='name'\n",
    "color=='black'\n",
    "1+2\n",
    "```"
   ]
  },
  {
   "cell_type": "markdown",
   "metadata": {},
   "source": [
    "There are two notable exceptions.\n",
    "\n",
    "The first is that the mathematical operators with the highest priority are grouped together to distinguish groups :\n",
    "\n",
    "👌 Good :\n",
    "\n",
    "```python\n",
    "a = x*2 - 1\n",
    "b = x*x + y*y\n",
    "c = (a+b) * (a-b)\n",
    "\n",
    "```\n",
    "The second is the = sign in argument declaration and parameter passing :\n",
    "\n",
    "👌 Good :\n",
    "\n",
    "```python\n",
    "def my_function(arg='value'):\n",
    "    pass\n",
    " \n",
    "result = my_fonction(arg='value')\n",
    "\n",
    "```\n"
   ]
  },
  {
   "cell_type": "markdown",
   "metadata": {},
   "source": [
    "There is no space inside parentheses, brackets or braces.  \n",
    "\n",
    "👌 Good :\n",
    "\n",
    "```python\n",
    "2 * (3 + 4)\n",
    " \n",
    "def fonction(arg='valeur'):\n",
    " \n",
    "{str(x): x for x in range(10)}\n",
    " \n",
    "val = dic['key']\n",
    "```\n",
    "\n",
    "❌ Bad :\n",
    "\n",
    "```python\n",
    "2 * ( 3 + 4 ) \n",
    " \n",
    "def fonction( arg= 'valeur' ):\n",
    " \n",
    "{ str( x ): x for x in range( 10 )}\n",
    " \n",
    "val = dic  ['key']\n",
    "```\n",
    "\n",
    "\n",
    "\n",
    "You don't put a space before colons and commas, but you do afterwards.  \n",
    "\n",
    "👌 Good :\n",
    "\n",
    "```python\n",
    "def my_function(arg1='valeur', arg2=None):\n",
    " \n",
    "dic = {'a': 1}\n",
    "```\n",
    "❌ Bad :\n",
    "\n",
    "```python\n",
    "def my_function(arg='value' , arg2=None) :\n",
    " \n",
    "dico = {'a' : 1}\n",
    "\n",
    "```"
   ]
  },
  {
   "cell_type": "markdown",
   "metadata": {},
   "source": [
    "### Docstrings \n",
    "There are both single and multi-line docstrings that can be used in Python. However, the single line comment fits in one line, triple quotes are used in both cases. These are used to define a particular program or define a particular function.\n",
    "Example:\n",
    "```python\n",
    "def exam():\n",
    "    \"\"\"This is single line docstring\"\"\"\n",
    "\n",
    "    \"\"\"This is\n",
    "    a\n",
    "    multiline comment\"\"\"\n",
    "```"
   ]
  },
  {
   "cell_type": "markdown",
   "metadata": {},
   "source": [
    "### Naming Conventions \n",
    "There are few naming conventions that should be followed in order to make the program less complex and more readable. At the same time, the naming conventions in Python is a bit of mess, but here are few conventions that can be followed easily.\n",
    "There is an overriding principle that follows that the names that are visible to the user as public parts of API should follow conventions that reflect usage rather than implementation.\n",
    "Here are few other naming conventions:\n",
    "\n",
    "**variable, function and module** : Use [snake_case.](https://en.wikipedia.org/wiki/Snake_case)\n",
    "\n",
    "👌 Good :\n",
    "\n",
    "```python\n",
    "my_variable = 'Hello'\n",
    "\n",
    "def my_function(element):\n",
    "    pass\n",
    "\n",
    "```\n",
    "❌ Bad :\n",
    "\n",
    "```python\n",
    "myVariable = 'Hello'\n",
    "MyVariable = 'Hello'\n",
    "\n",
    "def myFunction(element):\n",
    "    pass\n",
    "\n",
    "```\n",
    "\n",
    "**class** : Use [PascalCase](https://techterms.com/definition/pascalcase)  \n",
    "\n",
    "👌 Good :\n",
    "\n",
    "```python\n",
    "class MyClass:\n",
    "\n",
    "```\n",
    "❌ Bad :\n",
    "```python\n",
    "class my_class:\n",
    "\n",
    "```\n",
    "\n",
    "![naming conventions](https://i.stack.imgur.com/uBr10.png)"
   ]
  },
  {
   "cell_type": "markdown",
   "metadata": {},
   "source": [
    "###  In summary "
   ]
  },
  {
   "cell_type": "code",
   "execution_count": 26,
   "metadata": {},
   "outputs": [
    {
     "ename": "ImportError",
     "evalue": "No module named some_third_party_lib",
     "output_type": "error",
     "traceback": [
      "\u001b[0;31m---------------------------------------------------------------------------\u001b[0m",
      "\u001b[0;31mImportError\u001b[0m                               Traceback (most recent call last)",
      "\u001b[0;32m<ipython-input-26-9f9c691df63a>\u001b[0m in \u001b[0;36m<module>\u001b[0;34m()\u001b[0m\n\u001b[1;32m     15\u001b[0m \u001b[0;32mimport\u001b[0m \u001b[0msys\u001b[0m  \u001b[0;31m# alphabetical\u001b[0m\u001b[0;34m\u001b[0m\u001b[0m\n\u001b[1;32m     16\u001b[0m \u001b[0;34m\u001b[0m\u001b[0m\n\u001b[0;32m---> 17\u001b[0;31m \u001b[0;32mimport\u001b[0m \u001b[0msome_third_party_lib\u001b[0m  \u001b[0;31m# 3rd party stuff next\u001b[0m\u001b[0;34m\u001b[0m\u001b[0m\n\u001b[0m\u001b[1;32m     18\u001b[0m \u001b[0;32mimport\u001b[0m \u001b[0msome_third_party_other_lib\u001b[0m  \u001b[0;31m# alphabetical\u001b[0m\u001b[0;34m\u001b[0m\u001b[0m\n\u001b[1;32m     19\u001b[0m \u001b[0;34m\u001b[0m\u001b[0m\n",
      "\u001b[0;31mImportError\u001b[0m: No module named some_third_party_lib"
     ]
    }
   ],
   "source": [
    "#! /usr/bin/env python\n",
    "# -*- coding: utf-8 -*-\n",
    "\"\"\"This module's docstring summary line.\n",
    "This is a multi-line docstring. Paragraphs are separated with blank lines.\n",
    "Lines conform to 79-column limit.\n",
    "Module and packages names should be short, lower_case_with_underscores.\n",
    "Notice that this in not PEP8-cheatsheet.py\n",
    "Seriously, use flake8. Atom.io with https://atom.io/packages/linter-flake8\n",
    "is awesome!\n",
    "See http://www.python.org/dev/peps/pep-0008/ for more PEP-8 details\n",
    "\"\"\"\n",
    "\n",
    "\n",
    "import os  # STD lib imports first\n",
    "import sys  # alphabetical\n",
    "\n",
    "import some_third_party_lib  # 3rd party stuff next\n",
    "import some_third_party_other_lib  # alphabetical\n",
    "\n",
    "import local_stuff  # local stuff last\n",
    "import more_local_stuff\n",
    "import dont_import_two, modules_in_one_line  # IMPORTANT!\n",
    "from pyflakes_cannot_handle import *  # and there are other reasons it should be avoided # noqa\n",
    "# Using # noqa in the line above avoids flake8 warnings about line length!\n",
    "\n",
    "\n",
    "_a_global_var = 2  # so it won't get imported by 'from foo import *'\n",
    "_b_global_var = 3\n",
    "\n",
    "A_CONSTANT = 'ugh.'\n",
    "\n",
    "\n",
    "# 2 empty lines between top-level funcs + classes\n",
    "def naming_convention():\n",
    "    \"\"\"Write docstrings for ALL public classes, funcs and methods.\n",
    "    Functions use snake_case.\n",
    "    \"\"\"\n",
    "    if x == 4:  # x is blue <== USEFUL 1-liner comment (2 spaces before #)\n",
    "        x, y = y, x  # inverse x and y <== USELESS COMMENT (1 space after #)\n",
    "    c = (a + b) * (a - b)  # operator spacing should improve readability.\n",
    "    dict['key'] = dict[0] = {'x': 2, 'cat': 'not a dog'}\n",
    "\n",
    "\n",
    "class NamingConvention(object):\n",
    "    \"\"\"First line of a docstring is short and next to the quotes.\n",
    "    Class and exception names are CapWords.\n",
    "    Closing quotes are on their own line\n",
    "    \"\"\"\n",
    "\n",
    "    a = 2\n",
    "    b = 4\n",
    "    _internal_variable = 3\n",
    "    class_ = 'foo'  # trailing underscore to avoid conflict with builtin\n",
    "\n",
    "    # this will trigger name mangling to further discourage use from outside\n",
    "    # this is also very useful if you intend your class to be subclassed, and\n",
    "    # the children might also use the same var name for something else; e.g.\n",
    "    # for simple variables like 'a' above. Name mangling will ensure that\n",
    "    # *your* a and the children's a will not collide.\n",
    "    __internal_var = 4\n",
    "\n",
    "    # NEVER use double leading and trailing underscores for your own names\n",
    "    __nooooooodontdoit__ = 0\n",
    "\n",
    "    # don't call anything (because some fonts are hard to distiguish):\n",
    "    l = 1\n",
    "    O = 2\n",
    "    I = 3\n",
    "\n",
    "    # some examples of how to wrap code to conform to 79-columns limit:\n",
    "    def __init__(self, width, height,\n",
    "                 color='black', emphasis=None, highlight=0):\n",
    "        if width == 0 and height == 0 and \\\n",
    "           color == 'red' and emphasis == 'strong' or \\\n",
    "           highlight > 100:\n",
    "            raise ValueError('sorry, you lose')\n",
    "        if width == 0 and height == 0 and (color == 'red' or\n",
    "                                           emphasis is None):\n",
    "            raise ValueError(\"I don't think so -- values are %s, %s\" %\n",
    "                             (width, height))\n",
    "        Blob.__init__(self, width, height,\n",
    "                      color, emphasis, highlight)\n",
    "\n",
    "    # empty lines within method to enhance readability; no set rule\n",
    "    short_foo_dict = {'loooooooooooooooooooong_element_name': 'cat',\n",
    "                      'other_element': 'dog'}\n",
    "\n",
    "    long_foo_dict_with_many_elements = {\n",
    "        'foo': 'cat',\n",
    "        'bar': 'dog'\n",
    "    }\n",
    "\n",
    "    # 1 empty line between in-class def'ns\n",
    "    def foo_method(self, x, y=None):\n",
    "        \"\"\"Method and function names are lower_case_with_underscores.\n",
    "        Always use self as first arg.\n",
    "        \"\"\"\n",
    "        pass\n",
    "\n",
    "    @classmethod\n",
    "    def bar(cls):\n",
    "        \"\"\"Use cls!\"\"\"\n",
    "        pass\n",
    "\n",
    "# a 79-char ruler:\n",
    "# 34567891123456789212345678931234567894123456789512345678961234567897123456789\n",
    "\n",
    "\"\"\"\n",
    "Common naming convention names:\n",
    "snake_case\n",
    "MACRO_CASE\n",
    "camelCase\n",
    "CapWords\n",
    "\"\"\"\n",
    "\n",
    "# Newline at end of file"
   ]
  },
  {
   "cell_type": "markdown",
   "metadata": {},
   "source": [
    "## Bonus\n",
    "flake8 is an excellent linter that will check your code style. It is available as a command line or plugin for most editors.\n",
    "\n",
    "Likewise, mccabe will check the complexity of your code and tell you if you are smoking by giving you a score. It is also available as a flake8 plugin and can be activated via an option.\n",
    "\n",
    "Tox allows you to orchestrate all this, in addition to your unit tests. I'll do an article on it one of these 4.\n",
    "\n",
    "If you see comments like # noqa or # xxx: ignore or # xxx: disable=YYYY, these are comments to tell these tools to disregard these lines.\n",
    "\n",
    "Because remember, these rules are there to help you. If at any time they cease to be useful, you have every right to ignore them.\n",
    "\n",
    "But these common rules make Python an exceptional ecosystem language. They make teamwork, sharing, and productivity much easier. Once you get used to this, working under other conditions will seem like an unnecessary burden.\n",
    "\n",
    "\n",
    "## Ressources\n",
    "\n",
    "* https://docs.python-guide.org/writing/style/\n",
    "* https://pep8.readthedocs.io/en/release-1.7.x/intro.html"
   ]
  },
  {
   "cell_type": "code",
   "execution_count": null,
   "metadata": {},
   "outputs": [],
   "source": []
  }
 ],
 "metadata": {
  "kernelspec": {
   "display_name": "Python 3",
   "language": "python",
   "name": "python3"
  },
  "language_info": {
   "codemirror_mode": {
    "name": "ipython",
    "version": 2
   },
   "file_extension": ".py",
   "mimetype": "text/x-python",
   "name": "python",
   "nbconvert_exporter": "python",
   "pygments_lexer": "ipython2",
   "version": "2.7.17"
  }
 },
 "nbformat": 4,
 "nbformat_minor": 2
}
