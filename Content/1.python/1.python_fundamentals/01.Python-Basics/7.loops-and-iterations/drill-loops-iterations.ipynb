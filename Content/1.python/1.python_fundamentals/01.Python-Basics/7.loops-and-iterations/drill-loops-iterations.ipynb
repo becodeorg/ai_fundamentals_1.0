{
 "cells": [
  {
   "cell_type": "markdown",
   "metadata": {},
   "source": [
    "# Drill loops and iterations"
   ]
  },
  {
   "cell_type": "markdown",
   "metadata": {},
   "source": [
    "### 1. Display all students in the \"students\" list in alphabetical order"
   ]
  },
  {
   "cell_type": "code",
   "execution_count": 8,
   "metadata": {},
   "outputs": [],
   "source": [
    "students =  [\"Merouane\", \"Baptiste\", \"Caroline\", \"Joe\", \"Sophie\", \"Nathan\", \"Raphaël\", \"Axel\", \"Mathieu\", \"Adrien\"]"
   ]
  },
  {
   "cell_type": "markdown",
   "metadata": {},
   "source": [
    "### 2. Display only those whose first name begins with the letter M"
   ]
  },
  {
   "cell_type": "code",
   "execution_count": null,
   "metadata": {},
   "outputs": [],
   "source": []
  },
  {
   "cell_type": "markdown",
   "metadata": {},
   "source": [
    "### 3. Display integers from 0 to 15 not included, using a \"for\"loop and the range() instruction."
   ]
  },
  {
   "cell_type": "code",
   "execution_count": null,
   "metadata": {
    "collapsed": true
   },
   "outputs": [],
   "source": []
  },
  {
   "cell_type": "markdown",
   "metadata": {},
   "source": [
    "### 4. Use the \"break\" instruction to interrupt a \"for\" loop to display integers from 1 to 10 included, when the loop variable is 5"
   ]
  },
  {
   "cell_type": "code",
   "execution_count": null,
   "metadata": {
    "collapsed": true
   },
   "outputs": [],
   "source": []
  },
  {
   "cell_type": "markdown",
   "metadata": {},
   "source": [
    "### 5. Use the \"continue\" instruction to modify  a \"for\" loop to display intergers from 1 to 10 included,  when the loop variable is 5"
   ]
  },
  {
   "cell_type": "code",
   "execution_count": null,
   "metadata": {
    "collapsed": true
   },
   "outputs": [],
   "source": []
  },
  {
   "cell_type": "markdown",
   "metadata": {},
   "source": [
    "### 6. Follow the instructions :"
   ]
  },
  {
   "cell_type": "markdown",
   "metadata": {},
   "source": [
    "- sort and display the list;\n",
    "- add item 12 to the list and display the list;\n",
    "- reverse and display the list;\n",
    "- display the index of element 17;\n",
    "- remove item 38 and display the list;\n",
    "- display the sub-list of the 2nd to 3rd element;\n",
    "- display the sub-list from the beginning to the 2nd element;\n",
    "- display the sub-list of the 3rd element at the end of the list;\n",
    "- display the complete sub-list of the list;\n",
    "- display the last element using a negative indication."
   ]
  },
  {
   "cell_type": "code",
   "execution_count": null,
   "metadata": {
    "collapsed": true
   },
   "outputs": [],
   "source": [
    "listOfnum = [17, 38, 10, 25, 72]"
   ]
  },
  {
   "cell_type": "markdown",
   "metadata": {},
   "source": [
    "Note that some list methods do not return anything."
   ]
  },
  {
   "cell_type": "markdown",
   "metadata": {},
   "source": [
    "### 7. Write an algorithm that asks the user to enter a number. Then make sure that your program displays all the numbers up to 0, for example, if the user enters the number 3, then your program will display something like this: 3,2,1,0"
   ]
  },
  {
   "cell_type": "code",
   "execution_count": null,
   "metadata": {
    "collapsed": true
   },
   "outputs": [],
   "source": []
  },
  {
   "cell_type": "markdown",
   "metadata": {},
   "source": [
    "### 8.The price is right ! Create a variable that will contain the number to be found. Then create an algorithm that will ask the user to find this price. If the user enters a number that is too high, he will have the sentence: \"It's less\". If he enters a number that is too low, he will have the sentence: \"It's more\". If the user finds the right price he will have the sentence: \"Well done, you won\"."
   ]
  },
  {
   "cell_type": "code",
   "execution_count": null,
   "metadata": {
    "collapsed": true
   },
   "outputs": [],
   "source": []
  },
  {
   "cell_type": "markdown",
   "metadata": {},
   "source": [
    "### 9. Display all students with the sentence \"NAME is a alumni. \""
   ]
  },
  {
   "cell_type": "code",
   "execution_count": 11,
   "metadata": {},
   "outputs": [
    {
     "name": "stdout",
     "output_type": "stream",
     "text": [
      "Mostapha\n"
     ]
    }
   ],
   "source": [
    "allStudents =  [[\"David\", \"Justine\", \"Valentin\",\"Axel\", \"Redouane\"], [\"Julie\", \"Stéphane\", \"Mostapha\", \"Claudiu\", \"Son\"]]"
   ]
  },
  {
   "cell_type": "markdown",
   "metadata": {},
   "source": [
    "### 10. Display all elements. If the element is part of the first table display - \"*PHP* is a backend language\" - and if the element is part of the second language, display - \"*HTML* is a Frontend language\" ... "
   ]
  },
  {
   "cell_type": "code",
   "execution_count": null,
   "metadata": {
    "collapsed": true
   },
   "outputs": [],
   "source": [
    "languages = [[\"PHP\", \"Java\", \"C#\"], [\"HTML\", \"CSS\", \"Javascript\"]]"
   ]
  },
  {
   "cell_type": "markdown",
   "metadata": {},
   "source": [
    "## [Next one](../8.everything-is-object/everything-is-object.ipynb)"
   ]
  }
 ],
 "metadata": {
  "kernelspec": {
   "display_name": "Python 3",
   "language": "python",
   "name": "python3"
  },
  "language_info": {
   "codemirror_mode": {
    "name": "ipython",
    "version": 3
   },
   "file_extension": ".py",
   "mimetype": "text/x-python",
   "name": "python",
   "nbconvert_exporter": "python",
   "pygments_lexer": "ipython3",
   "version": "3.8.5"
  }
 },
 "nbformat": 4,
 "nbformat_minor": 2
}
