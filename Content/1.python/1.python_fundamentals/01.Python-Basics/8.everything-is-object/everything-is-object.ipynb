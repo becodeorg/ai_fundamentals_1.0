{
 "cells": [
  {
   "cell_type": "markdown",
   "metadata": {},
   "source": [
    "## Remember this, with Python, everything is object\n",
    "\n",
    "Let's look at the type of data."
   ]
  },
  {
   "cell_type": "code",
   "execution_count": 2,
   "metadata": {},
   "outputs": [
    {
     "name": "stdout",
     "output_type": "stream",
     "text": [
      "James <class 'str'>\n",
      "Bond <class 'str'>\n",
      "39 <class 'int'>\n",
      "81.56 <class 'float'>\n",
      "['James', 'Bond', 39, 81.56, True, '007'] <class 'list'>\n"
     ]
    }
   ],
   "source": [
    "firstName = \"James\"\n",
    "lastName = \"Bond\" \n",
    "age = 39\n",
    "weigth = 81.56 \n",
    "doubleAgent = True \n",
    "login = \"007\"\n",
    "agent = [firstName, lastName, age, weigth, doubleAgent, login] \n",
    "\n",
    "print(firstName, type(firstName))\n",
    "print(lastName, type(lastName))\n",
    "print(age, type(age))\n",
    "print(weigth, type(weigth))\n",
    "print(agent, type(agent))"
   ]
  },
  {
   "cell_type": "markdown",
   "metadata": {},
   "source": [
    "Look when you check the data type, you can see that there is the word class in front of all types. The String type is a class (so an object), but also integers, float, etc. Everything in python is an object! \n",
    "\n",
    "This implies that each object has methods and attributes, and you already know some! Example : \n",
    "Imagine that we want to capitalize the first letter of a character string. There is already a **method** for this in the String class. This is the \"capitilize\" method"
   ]
  },
  {
   "cell_type": "code",
   "execution_count": 1,
   "metadata": {},
   "outputs": [
    {
     "name": "stdout",
     "output_type": "stream",
     "text": [
      "Hello, and welcome to my world.\n"
     ]
    }
   ],
   "source": [
    "txt = \"hello, and welcome to my world.\"\n",
    "capitalizeTxt = txt.capitalize()\n",
    "print(capitalizeTxt) "
   ]
  },
  {
   "cell_type": "markdown",
   "metadata": {},
   "source": [
    "``capitalize()`` is a method of the string object."
   ]
  },
  {
   "cell_type": "markdown",
   "metadata": {},
   "source": [
    "We will explore this subject further along the way."
   ]
  },
  {
   "cell_type": "markdown",
   "metadata": {},
   "source": [
    "❗ Although Python is object-oriented, it allows you to write in procedural mode. And for now, we're going to do procedural programming, but very quickly, we will do object-oriented programming."
   ]
  },
  {
   "cell_type": "markdown",
   "metadata": {},
   "source": [
    "## Mutable vs Immutable Objects "
   ]
  },
  {
   "cell_type": "markdown",
   "metadata": {},
   "source": [
    "In most object-oriented languages, objects are manipulated by references. This means that when you create an object, an ID is assigned to it. This ID is not the object itself but refers to the location of the object in the memory.This is the case, for example, of Java, class objects of C # and Swift (unlike objects of type struct), Python, JavaScript and Ruby. In this case, the fact that the state of an object shared by reference may or may not be modified is important.\n",
    "\n",
    "When an object is considered immutable, a copy can be obtained by simply duplicating its reference, instead of copying the entire object. Since a reference (which usually stores only the size of a pointer) is usually much smaller than the object itself, this technique both saves memory and improves the speed of execution.\n",
    "\n",
    "The reference copying technique is much more complex to use for variable objects, because if any element using the reference to a variable object modifies it, the modification will become visible to all other elements using the reference.\n",
    "\n",
    "The technique of always using references instead of copies of identical immutable objects, storing their value only once in memory, is called \"interning\". In this context, two objects are considered equal if and only if their references, typically represented by integers, are equal.\n",
    "\n",
    "In Python language, the types bool, tuple, str, bytes, frozenset, range are immutable, as well as the numerical types int, float and complex. The list is not exhaustive.\n",
    "\n",
    "Tuple objects are immutable lists of heterogeneous objects in Python. We can see the tuple type as the immutable counterpart of the list, and frozenset as the immutable counterpart of the set. Contrary to what we observe for example in Ruby language, strings (str) are immutable. Bit strings (bytes) also, but there is a variable bytearray type. \n",
    "\n",
    "Let's look at this with a practical case."
   ]
  },
  {
   "cell_type": "markdown",
   "metadata": {},
   "source": [
    "#### We will create an immutable object with the class int.\n",
    "*(``id()`` is a native python function that allows you to know the reference of the object. It is expressed in Integer)*. "
   ]
  },
  {
   "cell_type": "code",
   "execution_count": null,
   "metadata": {
    "collapsed": true
   },
   "outputs": [],
   "source": [
    "x = 10 # Creating the int() instance\n",
    "y = 10\n",
    "print(id(x), id(y))\n",
    "print(x is y) # comparing the types"
   ]
  },
  {
   "cell_type": "markdown",
   "metadata": {},
   "source": [
    "It can be seen here that both the x and y variables point to the same reference. Now, let's change the value of the variable x"
   ]
  },
  {
   "cell_type": "code",
   "execution_count": null,
   "metadata": {
    "collapsed": true
   },
   "outputs": [],
   "source": [
    "x += 1\n",
    "print(id(x), id(y))\n",
    "print(x is y) # comparing the types"
   ]
  },
  {
   "cell_type": "markdown",
   "metadata": {},
   "source": [
    "This time we see that the variable no longer points to the same reference. \n",
    "#### Now we will create a mutable object with the List class."
   ]
  },
  {
   "cell_type": "code",
   "execution_count": null,
   "metadata": {
    "collapsed": true
   },
   "outputs": [],
   "source": [
    "person = [\"James\", \"Bond\", \"007\", \"Secret agent\"]\n",
    "person2 = person\n",
    "print(id(person), id(person))"
   ]
  },
  {
   "cell_type": "markdown",
   "metadata": {},
   "source": [
    "Let's modify both lists"
   ]
  },
  {
   "cell_type": "code",
   "execution_count": null,
   "metadata": {
    "collapsed": true
   },
   "outputs": [],
   "source": [
    "person += [\"English\"]\n",
    "person2 += [\"Man\"]\n",
    "print(id(person),id(person2))\n",
    "print(person, person2)"
   ]
  },
  {
   "cell_type": "markdown",
   "metadata": {},
   "source": [
    "This time you can see: \n",
    "1. Despite the changes made in the ``List``, the references do not change.\n",
    "2. The changes affect both the variable ``person`` and the variable ``person2``.\n",
    "\n",
    "So we understand the consequences that this could have. It is therefore very useful to know if you are handling a mutable or immutable object. "
   ]
  },
  {
   "cell_type": "markdown",
   "metadata": {},
   "source": [
    "## [Next One](../9.functions/functions.ipynb)"
   ]
  },
  {
   "cell_type": "code",
   "execution_count": null,
   "metadata": {
    "collapsed": true
   },
   "outputs": [],
   "source": []
  }
 ],
 "metadata": {
  "kernelspec": {
   "display_name": "Python 3",
   "language": "python",
   "name": "python3"
  },
  "language_info": {
   "codemirror_mode": {
    "name": "ipython",
    "version": 3
   },
   "file_extension": ".py",
   "mimetype": "text/x-python",
   "name": "python",
   "nbconvert_exporter": "python",
   "pygments_lexer": "ipython3",
   "version": "3.7.1"
  }
 },
 "nbformat": 4,
 "nbformat_minor": 2
}
