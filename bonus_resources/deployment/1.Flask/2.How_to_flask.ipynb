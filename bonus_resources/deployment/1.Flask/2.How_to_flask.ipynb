{
 "cells": [
  {
   "cell_type": "markdown",
   "metadata": {},
   "source": [
    "# Flask\n",
    "![Flask icon](assets/flask-icon.png)"
   ]
  },
  {
   "cell_type": "markdown",
   "metadata": {},
   "source": [
    "##  What is Flask?\n",
    "Flask is a Python library used to create easy APIs.\n",
    "To know more about what an API is: https://www.howtogeek.com/343877/what-is-an-api/\n",
    "\n",
    "\n",
    "## Production\n",
    "Flask is not designed to be used in production as it is. You can easily run your file for development purpose. But when it come to production, there are additional steps that need to be performed.\n",
    "You will need to use Gunicorn/NGX for example.\n",
    "\n",
    "To know more about it:\n",
    "* [See the Flask official documentation](https://flask.palletsprojects.com/en/1.1.x/tutorial/deploy/)\n",
    "* [More details about why you shouldn't deploy only with Flask](https://vsupalov.com/flask-web-server-in-production/)\n",
    "* [More informations about Gunicorn and how to set up your production server](http://trigonaminima.github.io/2020/05/flask-prod/)"
   ]
  },
  {
   "cell_type": "markdown",
   "metadata": {},
   "source": [
    "## Installation"
   ]
  },
  {
   "cell_type": "markdown",
   "metadata": {},
   "source": [
    "Create a new environment with `virtualenv` (see `00.Virtualenv`) and activate it.\n",
    "\n",
    "Then install the latest Flask version from your terminal:\n",
    "\n",
    "```bash\n",
    "pip install Flask\n",
    "```"
   ]
  },
  {
   "cell_type": "markdown",
   "metadata": {},
   "source": [
    "## Your first API"
   ]
  },
  {
   "cell_type": "markdown",
   "metadata": {},
   "source": [
    "Let's create our first API. \n",
    "We will import the `Flask` class from the `flask` module. Then we will create an instance of it.\n",
    "\n",
    "Our app is now created. Let's define our routes! \n",
    "\n",
    "Routes are an URL that will handle HTTP requests with or without data and get data back.\n",
    "\n",
    "There are multiple kind of requests, we will see two during this course but you definitely should look at all of them and discover what a REST API is. \n",
    "Here is some documentation:\n",
    "* [What is a REST API?](https://restfulapi.net/)\n",
    "* [All the HTTP requests you should know](https://www.tutorialspoint.com/http/http_requests.htm)\n",
    "\n",
    "We will mainly use **GET** and **POST** requests.\n",
    "\n",
    "Let's start with a simple **GET** request on the address `/`.\n",
    "We are going to return \"Hello world\". It means that each HTTP request with the **GET** method will return the string \"Hello world\".\n",
    "\n",
    "So we create a function with the decorator `app.route()` and define the first argument with the URL we want to put as our route.\n",
    "\n",
    "Our route is ready, let's run our app!\n",
    "\n",
    "To do so, we will use the condition\n",
    "```python\n",
    "if __name__ == '__main__':\n",
    "```\n",
    "\n",
    "It will ensure that the app will only run if we run this specific file. If we import a function from the file for example, python will run the entire file and we don't want it to launch the app.\n",
    "\n",
    "Under this condition we can simply call the app's run method.\n",
    "\n",
    "The app will start listening to HTTP requests on port 5000 by default. You can, of course, change the port if you want. To do so, add the port parameter in the run method. \n",
    "\n",
    "You can now create a file called `hello_world.py` with the following code to try it yourself."
   ]
  },
  {
   "cell_type": "code",
   "execution_count": null,
   "metadata": {},
   "outputs": [],
   "source": [
    "from flask import Flask\n",
    "\n",
    "app = Flask(__name__)\n",
    "\n",
    "@app.route('/')\n",
    "def home():\n",
    "   return 'Hello World'\n",
    "\n",
    "if __name__ == '__main__':\n",
    "   app.run(port=5000)"
   ]
  },
  {
   "cell_type": "markdown",
   "metadata": {},
   "source": [
    "If you run the Hello.py script in the Python shell, you will be able to see a \"Hello World\" message under the `localhost:5000` address."
   ]
  },
  {
   "cell_type": "markdown",
   "metadata": {},
   "source": [
    "**Pro tips:** You can also take advantage of the run argument's method to change the host (which is localhost by default). You can [learn more about it here](https://www.tutorialspoint.com/flask/flask_application.htm)."
   ]
  },
  {
   "cell_type": "markdown",
   "metadata": {},
   "source": [
    "Now, let's play a little bit around with it. Let's add one more function in our Hello.py file."
   ]
  },
  {
   "cell_type": "code",
   "execution_count": null,
   "metadata": {},
   "outputs": [],
   "source": [
    "from flask import Flask\n",
    "app = Flask(__name__)\n",
    "\n",
    "\n",
    "@app.route('/')\n",
    "def home():\n",
    "   return 'Hello World'\n",
    "\n",
    "@app.route('/<name>')\n",
    "def user(name):\n",
    "    return f\"Hello {name}!\"\n",
    "\n",
    "if __name__ == '__main__':\n",
    "   app.run()"
   ]
  },
  {
   "cell_type": "markdown",
   "metadata": {},
   "source": [
    "**Caution** : The above command requires to have Python 3.6.x and up"
   ]
  },
  {
   "cell_type": "markdown",
   "metadata": {},
   "source": [
    "## Task: create you own API that contains at least:\n",
    "\n",
    "* A route that handles GET request\n",
    "* A route that handles POST request\n",
    "* A route that takes a number in the request and returns this number multiplied by 2"
   ]
  },
  {
   "cell_type": "markdown",
   "metadata": {},
   "source": [
    "## Test you API\n",
    "To test you API you can use you browser or the `curl` command in the terminal. \n",
    "But if you want to test POST requests with some data in it and start to work on a complex API then you will need a more advanced tool!\n",
    "\n",
    "I recommend you to check [Postman](https://www.postman.com/) which is a free software compatible with Windows, Linux and Mac. It allows you to create and register complex requests, to add headers, to get formatted data and much more."
   ]
  },
  {
   "cell_type": "markdown",
   "metadata": {},
   "source": [
    "Are you done? If yes, you know how a basic API works, and how to put it in production. Congratulations! \n",
    "\n",
    "Time to explore some more :"
   ]
  },
  {
   "cell_type": "markdown",
   "metadata": {},
   "source": [
    "- https://blog.miguelgrinberg.com/post/the-flask-mega-tutorial-part-i-hello-world\n",
    "- https://python-adv-web-apps.readthedocs.io/en/latest/flask.html\n",
    "- https://www.youtube.com/watch?v=MwZwr5Tvyxo&list=PL-osiE80TeTs4UjLw5MM6OjgkjFeUxCYH\n",
    "- https://pymbook.readthedocs.io/en/latest/flask.html\n",
    "- https://web.itu.edu.tr/uyar/fad/basics.html\n",
    "- https://www.rithmschool.com/courses/flask-fundamentals/crud-with-flask"
   ]
  }
 ],
 "metadata": {
  "kernelspec": {
   "display_name": "Python 3",
   "language": "python",
   "name": "python3"
  },
  "language_info": {
   "codemirror_mode": {
    "name": "ipython",
    "version": 3
   },
   "file_extension": ".py",
   "mimetype": "text/x-python",
   "name": "python",
   "nbconvert_exporter": "python",
   "pygments_lexer": "ipython3",
   "version": "3.7.9"
  }
 },
 "nbformat": 4,
 "nbformat_minor": 2
}
