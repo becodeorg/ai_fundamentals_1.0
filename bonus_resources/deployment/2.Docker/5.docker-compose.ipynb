{
 "cells": [
  {
   "cell_type": "markdown",
   "metadata": {},
   "source": [
    "# Docker-compose\n",
    "\n",
    "![docker compose!](./assets/docker-compose.png)\n",
    "\n",
    "## Intoduction\n",
    "Docker-compose is a tool that allows you to easily manage multiple containers at once.\n",
    "\n",
    "## Context\n",
    "Let's say that you have multiple container for your app which is stored in a single Github repo:\n",
    "* A container that extracts data from a website\n",
    "* A container that receives data and cleans it\n",
    "* A container for your Database\n",
    "* A container that manages an API\n",
    "\n",
    "If you want to run your entire system, you will need to start each container manually, if you change the code of all your containers, you need to re-build all of them one by one.\n",
    "If you want to share volumes between them, it's complicated.\n",
    "And so on...\n",
    "\n",
    "As you can imagine, it becomes really messy and it's a pain to maintain...\n",
    "\n",
    "## Solution\n",
    "To tackle that, you can use `docker-compose`. It allows you to manage all those containers at once.\n",
    "\n",
    "You can create a single `docker-compose` file where you define all your containers and where the corresponding Dockerfile are. \n",
    "\n",
    "You can also create volumes in it and bind them to every container you want. Then you can simply run one command to build all your images, run all your containers at the same time.\n",
    "\n",
    "## Conclusion\n",
    "I will not go too deep about it now. Let's master the basics first! \n",
    "\n",
    "But if one day you come to a point where you need to use multiple containers/images and you feel that's a lot to manage individually, remember docker-compose!\n",
    "\n",
    "It could also be a super interesting watch/workshop!\n",
    "\n",
    "## Some documentation\n",
    "* [Official documentation](https://docs.docker.com/compose/)\n",
    "* [Awesome article about it](https://towardsdatascience.com/docker-compose-44a8112c850a)\n",
    "\n",
    "![compose](./assets/compose.gif)"
   ]
  }
 ],
 "metadata": {
  "kernelspec": {
   "display_name": "Python 3",
   "language": "python",
   "name": "python3"
  },
  "language_info": {
   "codemirror_mode": {
    "name": "ipython",
    "version": 3
   },
   "file_extension": ".py",
   "mimetype": "text/x-python",
   "name": "python",
   "nbconvert_exporter": "python",
   "pygments_lexer": "ipython3",
   "version": "3.7.9"
  }
 },
 "nbformat": 4,
 "nbformat_minor": 4
}
