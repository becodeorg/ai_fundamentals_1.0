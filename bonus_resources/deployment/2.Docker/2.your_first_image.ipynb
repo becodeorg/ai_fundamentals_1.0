{
 "cells": [
  {
   "cell_type": "markdown",
   "metadata": {},
   "source": [
    "# Your first image!\n",
    "\n",
    "Ok now that you understand what Docker is and why use it (at least I hope, if not you will soon!), it is time to get more technical.\n",
    "\n",
    "## Goal\n",
    "In this module we will learn:\n",
    "* What is the **concrete** difference between an **image** and a **container**\n",
    "* How to create an image?\n",
    "* What is a Dockerfile and how to use it?\n",
    "* How to create a container out of an image?\n",
    "\n",
    "And we will run our very first container based on our very first image!\n",
    "\n",
    "![do-it](./assets/do-it.gif)"
   ]
  },
  {
   "cell_type": "markdown",
   "metadata": {},
   "source": [
    "## Installation\n",
    "First things first, we need to install Docker.\n",
    "\n",
    "You just have to follow [Docker's well made documentation](https://docs.docker.com/engine/install/ubuntu/).\n",
    "\n",
    "If you're running Windows or Mac -> https://docs.docker.com/engine/install/\n",
    "\n",
    "By default, Docker will need to use `sudo` each time. Let's change that:\n",
    "```bash\n",
    "sudo gpasswd -a $USER docker\n",
    "```\n",
    "\n",
    "You will need to log-out before it applies the changes.\n",
    "\n",
    "## How do we create an image\n",
    "In order to create images (or import them), we could:\n",
    "\n",
    "### Go to [Docker Hub](https://hub.docker.com/) \n",
    "\n",
    "which is like GitHub for Docker images. \n",
    "You need an image with a SQL DB in it? [There is one](https://hub.docker.com/r/mysalt/mysql). \n",
    "You need an image with python 3.6? [There is one](https://hub.docker.com/r/silverlogic/python3.6).\n",
    "And a lot of other images!\n",
    "\n",
    "### Create your own docker file!\n",
    "\n",
    "In many cases, we will want to create our own images, with our own files and our own script.\n",
    "In order to do that we will create what we call a `Dockerfile`. \n",
    "\n",
    "This is just a file that is named `Dockerfile` and that contains a script that Docker can understand.\n",
    "Based on that, it will create an image.\n",
    "\n",
    "## Let's create our image\n",
    "It's time! So we will create a `Dockerfile` and we will use a python image as base. It means that we start from an existing image to build our own.\n",
    "So we don't have to start from scratch each time.\n",
    "\n",
    "In this file we will add a line to tell Docker that we want to start from the official Python 3.7 image.\n",
    "\n",
    "The `FROM` keyword is used to tell Docker which base image we will use.\n",
    "\n",
    "```Dockerfile\n",
    "FROM python:3.7\n",
    "```\n",
    "\n",
    "Now let's add another line to copy a file. In the folder you're in, there is a file named `hello_world.py`. This file contains a single line:\n",
    "\n",
    "```python\n",
    "print(\"Hello world!\")\n",
    "```\n",
    "\n",
    "We will create folder called `app` and put our file in it. As the python image is built on top of Ubuntu, we can use all the commands that work in Ubuntu.\n",
    "\n",
    "Let's see some useful keywords that can be used in a Dockerfile:\n",
    "* The `RUN` keyword can be uses to run a command on the system.\n",
    "* The `COPY` keyword can be used to copy a file.\n",
    "* The `WORKDIR` keyword can be used to define the path where all the commands will be run starting after it.\n",
    "* The `CMD` keyword can be used to define the command that the container will run when it will be launched.\n",
    "\n",
    "\n",
    "```Dockerfile\n",
    "RUN mkdir /app\n",
    "RUN mkdir /app/code\n",
    "COPY code/hello_world.py /app/code/hello_world.py\n",
    "WORKDIR /app\n",
    "CMD [\"python\", \"code/hello_world.py\"]\n",
    "```\n",
    "\n",
    "## Let's build our image!\n",
    "Now we're ready to create our first image! Exciting right? \n",
    "\n",
    "We say that we `build` our image. That's the term. \n",
    "\n",
    "The command is: `docker build . -t hello`\n",
    "\n",
    "* `docker` to specify that we use docker\n",
    "* `build` to specify that we want to create an image\n",
    "* `.` to specify that the Dockerfile is in the current directory\n",
    "* `-t hello` to add a name to our image. If we don't do that we will need to use the ID that docker defines for us and it's not easy to remember.\n",
    "\n",
    "I already created the Dockerfile for you. Have a look on it!"
   ]
  },
  {
   "cell_type": "code",
   "execution_count": 2,
   "metadata": {},
   "outputs": [
    {
     "name": "stdout",
     "output_type": "stream",
     "text": [
      "Sending build context to Docker daemon  1.938MB\n",
      "Step 1/5 : FROM python:3.7\n",
      " ---> 2b00bba7acbb\n",
      "Step 2/5 : RUN mkdir /app\n",
      " ---> Using cache\n",
      " ---> b37597b12c4e\n",
      "Step 3/5 : COPY hello_world.py /app/hello_world.py\n",
      " ---> 5951097814ca\n",
      "Step 4/5 : WORKDIR /app\n",
      " ---> Running in e0bf5f50ab1f\n",
      "Removing intermediate container e0bf5f50ab1f\n",
      " ---> 3afec94712bc\n",
      "Step 5/5 : CMD [\"python\", \"hello_world.py\"]\n",
      " ---> Running in 305147184ee0\n",
      "Removing intermediate container 305147184ee0\n",
      " ---> 8f7ca704c0a8\n",
      "Successfully built 8f7ca704c0a8\n",
      "Successfully tagged hello:latest\n"
     ]
    }
   ],
   "source": [
    "!docker build . -t hello"
   ]
  },
  {
   "cell_type": "markdown",
   "metadata": {},
   "source": [
    "As you can see, our image has been successfully built!\n",
    "\n",
    "If you look at the last line of the output, you see:\n",
    "\n",
    "```\n",
    "Successfully tagged hello:latest\n",
    "```\n",
    "\n",
    "Our image has been tagged with `hello:latest`. As we didn't define any tag at the end of our image name, `latest` will be added by docker.\n",
    "If we make changes in our image and re-build it, a new image will be created with the tag `latest` and our old image will no longer have it. \n",
    "It's useful when you want to use the most recent version of your image.\n",
    "\n",
    "We can also add our own tags as follows"
   ]
  },
  {
   "cell_type": "code",
   "execution_count": 6,
   "metadata": {},
   "outputs": [
    {
     "name": "stdout",
     "output_type": "stream",
     "text": [
      "Sending build context to Docker daemon  1.942MB\n",
      "Step 1/5 : FROM python:3.7\n",
      " ---> 2b00bba7acbb\n",
      "Step 2/5 : RUN mkdir /app\n",
      " ---> Using cache\n",
      " ---> b37597b12c4e\n",
      "Step 3/5 : COPY hello_world.py /app/hello_world.py\n",
      " ---> Using cache\n",
      " ---> 5951097814ca\n",
      "Step 4/5 : WORKDIR /app\n",
      " ---> Using cache\n",
      " ---> 3afec94712bc\n",
      "Step 5/5 : CMD [\"python\", \"hello_world.py\"]\n",
      " ---> Using cache\n",
      " ---> 8f7ca704c0a8\n",
      "Successfully built 8f7ca704c0a8\n",
      "Successfully tagged another_image:v1.0\n"
     ]
    }
   ],
   "source": [
    "!docker build . -t another_image:v1.0"
   ]
  },
  {
   "cell_type": "markdown",
   "metadata": {},
   "source": [
    "If we try to list all of our images, we will see that we have 3 images. \n",
    "\n",
    "* One `hello` with the tag `latest`\n",
    "* One `hello` with the tag `v1.0`\n",
    "* One `python` with the tag `3.7` *(that's the one we used as base image)*\n",
    "\n",
    "We can see it with:\n",
    "\n",
    "```bash\n",
    "docker image ls\n",
    "```"
   ]
  },
  {
   "cell_type": "code",
   "execution_count": 7,
   "metadata": {},
   "outputs": [
    {
     "name": "stdout",
     "output_type": "stream",
     "text": [
      "REPOSITORY          TAG                 IMAGE ID            CREATED             SIZE\n",
      "another_image       v1.0                8f7ca704c0a8        15 minutes ago      876MB\n",
      "hello               latest              8f7ca704c0a8        15 minutes ago      876MB\n",
      "hello               v1.0                8f7ca704c0a8        15 minutes ago      876MB\n",
      "python              3.7                 2b00bba7acbb        2 days ago          876MB\n"
     ]
    }
   ],
   "source": [
    "!docker image ls"
   ]
  },
  {
   "cell_type": "markdown",
   "metadata": {},
   "source": [
    "## Manage images\n",
    "As you can see images take a lot of place on you hard drive! And the more complex your images are and the more dependencies they have, the bigger they will be.\n",
    "\n",
    "It rapidly become a pain...\n",
    "\n",
    "Thankfully, we can remove the one that we don't use anymore with the command:\n",
    "\n",
    "```bash\n",
    "docker image rm <IMAGE_ID>\n",
    "````\n",
    "As we see in the `docker image ls` output, each image has an ID. We will use that to remove them. Let's say we want to remove our `hello:v1.0` image.\n",
    "```\n",
    "hello               latest              8f7ca704c0a8        7 minutes ago       876MB\n",
    "```\n",
    "Here the ID is `8f7ca704c0a8`. But here multiple images have the same ID. That's because multiples images you the same image.\n",
    "\n",
    "Confused? It's because Docker is really smart! We tried to create multiple images based on the same Dockerfile, and there were no changes between the creation of the first image and the last one. Neither in the files, nor in the Dockerfile. So Docker knows that it doesn't have to create multiple images! It creates and 'links' it to other tags.\n",
    "\n",
    "So if I try to delete with the ID it will give me a warning and not do it. Because multiple tags are linked to the same image.\n",
    "\n",
    "So instead of using IDs we will use tags."
   ]
  },
  {
   "cell_type": "code",
   "execution_count": 8,
   "metadata": {},
   "outputs": [
    {
     "name": "stdout",
     "output_type": "stream",
     "text": [
      "Untagged: hello:v1.0\n"
     ]
    }
   ],
   "source": [
    "!docker image rm hello:v1.0"
   ]
  },
  {
   "cell_type": "markdown",
   "metadata": {},
   "source": [
    "The tag has been removed!"
   ]
  },
  {
   "cell_type": "code",
   "execution_count": 16,
   "metadata": {},
   "outputs": [
    {
     "name": "stdout",
     "output_type": "stream",
     "text": [
      "REPOSITORY          TAG                 IMAGE ID            CREATED             SIZE\n",
      "hello               latest              8f7ca704c0a8        21 minutes ago      876MB\n",
      "python              3.7                 2b00bba7acbb        2 days ago          876MB\n"
     ]
    }
   ],
   "source": [
    "!docker image ls"
   ]
  },
  {
   "cell_type": "markdown",
   "metadata": {},
   "source": [
    "## Run it\n",
    "Perfect! You understand what an image is now! Let's run it. \n",
    "\n",
    "When we will run the image, Docker will create a `container`, an instance of the image and it will execute the command we added after the `CMD` keyword.\n",
    "\n",
    "We will do it with the command:\n",
    "```bash\n",
    "docker run -t hello:latest\n",
    "```\n",
    "\n",
    "* `run` is to tell to docker to create a container.\n",
    "* `-t hello:latest` is to specify which image it should use to create and run the `container`\n",
    "\n",
    "If you don't put `:<YOUR_TAG>` docker will add `:latest` by default."
   ]
  },
  {
   "cell_type": "code",
   "execution_count": 17,
   "metadata": {},
   "outputs": [
    {
     "name": "stdout",
     "output_type": "stream",
     "text": [
      "Hello world!\n"
     ]
    }
   ],
   "source": [
    "!docker run -t hello"
   ]
  },
  {
   "cell_type": "markdown",
   "metadata": {},
   "source": [
    "Our container successfully ran. We can see that it printed 'Hello world' as asked.\n",
    "\n",
    "Ok. So we created a container and we ran it. Can we see it stored somewhere?\n",
    "\n",
    "Let's try with `docker container ls` maybe?"
   ]
  },
  {
   "cell_type": "code",
   "execution_count": 19,
   "metadata": {},
   "outputs": [
    {
     "name": "stdout",
     "output_type": "stream",
     "text": [
      "CONTAINER ID        IMAGE               COMMAND             CREATED             STATUS              PORTS               NAMES\n"
     ]
    }
   ],
   "source": [
    "!docker container ls"
   ]
  },
  {
   "cell_type": "markdown",
   "metadata": {},
   "source": [
    "Damn it, the command seems to be right but there is nothing here!\n",
    "Well, `docker container ls` only show running containers. And this one is not running anymore because it completed the task we asked him to do!\n",
    "\n",
    "So if we want to see all the container, including the stopped one, we can do:\n",
    "```bash\n",
    "docker container ls -a\n",
    "```\n"
   ]
  },
  {
   "cell_type": "code",
   "execution_count": 21,
   "metadata": {},
   "outputs": [
    {
     "name": "stdout",
     "output_type": "stream",
     "text": [
      "CONTAINER ID        IMAGE               COMMAND                  CREATED             STATUS                      PORTS               NAMES\n",
      "cd585b842f8b        hello               \"python hello_world.…\"   55 minutes ago      Exited (0) 55 minutes ago                       confident_agnesi\n"
     ]
    }
   ],
   "source": [
    "!docker container ls -a"
   ]
  },
  {
   "cell_type": "markdown",
   "metadata": {},
   "source": [
    "Ok good! We can of course remove it with:\n",
    "\n",
    "```bash\n",
    "docker contaier rm <CONTAINER_ID>\n",
    "```\n",
    "\n",
    "So in this case `cd585b842f8b`"
   ]
  },
  {
   "cell_type": "code",
   "execution_count": 23,
   "metadata": {},
   "outputs": [
    {
     "name": "stdout",
     "output_type": "stream",
     "text": [
      "cd585b842f8b\n"
     ]
    }
   ],
   "source": [
    "!docker container rm cd585b842f8b"
   ]
  },
  {
   "cell_type": "markdown",
   "metadata": {},
   "source": [
    "It worked!\n",
    "\n",
    "## Conclusion\n",
    "Great! You now have a complete understanding of images and containers. \n",
    "\n",
    "In the next module, we will dive deeper into the container and see what we can do with them.\n",
    "\n",
    "![We will have so much fun!](./assets/have-fun.gif)"
   ]
  }
 ],
 "metadata": {
  "kernelspec": {
   "display_name": "Python 3",
   "language": "python",
   "name": "python3"
  },
  "language_info": {
   "codemirror_mode": {
    "name": "ipython",
    "version": 3
   },
   "file_extension": ".py",
   "mimetype": "text/x-python",
   "name": "python",
   "nbconvert_exporter": "python",
   "pygments_lexer": "ipython3",
   "version": "3.7.9"
  }
 },
 "nbformat": 4,
 "nbformat_minor": 4
}
